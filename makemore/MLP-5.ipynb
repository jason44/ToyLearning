{
 "cells": [
  {
   "cell_type": "markdown",
   "metadata": {},
   "source": [
    "## makemore: part 5\n",
    "Culmulative review and new stuff"
   ]
  },
  {
   "cell_type": "code",
   "execution_count": 1,
   "metadata": {},
   "outputs": [],
   "source": [
    "import torch\n",
    "import torch.nn.functional as F\n",
    "import matplotlib.pyplot as plt # for making figures\n",
    "%matplotlib inline"
   ]
  },
  {
   "cell_type": "code",
   "execution_count": 2,
   "metadata": {},
   "outputs": [
    {
     "name": "stdout",
     "output_type": "stream",
     "text": [
      "32033\n",
      "15\n",
      "['emma', 'olivia', 'ava', 'isabella', 'sophia', 'charlotte', 'mia', 'amelia']\n"
     ]
    }
   ],
   "source": [
    "# read in all the words\n",
    "words = open('names.txt', 'r').read().splitlines()\n",
    "print(len(words))\n",
    "print(max(len(w) for w in words))\n",
    "print(words[:8])"
   ]
  },
  {
   "cell_type": "code",
   "execution_count": 3,
   "metadata": {},
   "outputs": [
    {
     "name": "stdout",
     "output_type": "stream",
     "text": [
      "{1: 'a', 2: 'b', 3: 'c', 4: 'd', 5: 'e', 6: 'f', 7: 'g', 8: 'h', 9: 'i', 10: 'j', 11: 'k', 12: 'l', 13: 'm', 14: 'n', 15: 'o', 16: 'p', 17: 'q', 18: 'r', 19: 's', 20: 't', 21: 'u', 22: 'v', 23: 'w', 24: 'x', 25: 'y', 26: 'z', 0: '.'}\n",
      "27\n"
     ]
    }
   ],
   "source": [
    "# build the vocabulary of characters and mappings to/from integers\n",
    "chars = sorted(list(set(''.join(words))))\n",
    "stoi = {s:i+1 for i,s in enumerate(chars)}\n",
    "stoi['.'] = 0\n",
    "itos = {i:s for s,i in stoi.items()}\n",
    "vocab_size = len(itos)\n",
    "print(itos)\n",
    "print(vocab_size)"
   ]
  },
  {
   "cell_type": "code",
   "execution_count": 1,
   "metadata": {},
   "outputs": [
    {
     "ename": "NameError",
     "evalue": "name 'words' is not defined",
     "output_type": "error",
     "traceback": [
      "\u001b[0;31m---------------------------------------------------------------------------\u001b[0m",
      "\u001b[0;31mNameError\u001b[0m                                 Traceback (most recent call last)",
      "Cell \u001b[0;32mIn[1], line 4\u001b[0m\n\u001b[1;32m      2\u001b[0m \u001b[38;5;28;01mimport\u001b[39;00m \u001b[38;5;21;01mrandom\u001b[39;00m\n\u001b[1;32m      3\u001b[0m random\u001b[38;5;241m.\u001b[39mseed(\u001b[38;5;241m42\u001b[39m)\n\u001b[0;32m----> 4\u001b[0m random\u001b[38;5;241m.\u001b[39mshuffle(\u001b[43mwords\u001b[49m)\n",
      "\u001b[0;31mNameError\u001b[0m: name 'words' is not defined"
     ]
    }
   ],
   "source": [
    "# shuffle up the words (because our training data may have some sort of ordering)\n",
    "import random\n",
    "random.seed(42)\n",
    "random.shuffle(words)"
   ]
  },
  {
   "cell_type": "code",
   "execution_count": 5,
   "metadata": {},
   "outputs": [
    {
     "name": "stdout",
     "output_type": "stream",
     "text": [
      "torch.Size([182625, 8]) torch.Size([182625])\n",
      "torch.Size([22655, 8]) torch.Size([22655])\n",
      "torch.Size([22866, 8]) torch.Size([22866])\n"
     ]
    }
   ],
   "source": [
    "# build the dataset\n",
    "block_size = 8 # context length: how many characters do we take to predict the next one?\n",
    "\n",
    "def build_dataset(words):  \n",
    "  X, Y = [], []\n",
    "  \n",
    "  for w in words:\n",
    "    context = [0] * block_size\n",
    "    for ch in w + '.':\n",
    "      ix = stoi[ch]\n",
    "      X.append(context)\n",
    "      Y.append(ix)\n",
    "      context = context[1:] + [ix] # crop and append\n",
    "\n",
    "  X = torch.tensor(X)\n",
    "  Y = torch.tensor(Y)\n",
    "  print(X.shape, Y.shape)\n",
    "  return X, Y\n",
    "\n",
    "n1 = int(0.8*len(words))\n",
    "n2 = int(0.9*len(words))\n",
    "Xtr,  Ytr  = build_dataset(words[:n1])     # 80%\n",
    "Xdev, Ydev = build_dataset(words[n1:n2])   # 10%\n",
    "Xte,  Yte  = build_dataset(words[n2:])     # 10%"
   ]
  },
  {
   "cell_type": "code",
   "execution_count": 6,
   "metadata": {},
   "outputs": [
    {
     "name": "stdout",
     "output_type": "stream",
     "text": [
      "........ --> y\n",
      ".......y --> u\n",
      "......yu --> h\n",
      ".....yuh --> e\n",
      "....yuhe --> n\n",
      "...yuhen --> g\n",
      "..yuheng --> .\n",
      "........ --> d\n",
      ".......d --> i\n",
      "......di --> o\n",
      ".....dio --> n\n",
      "....dion --> d\n",
      "...diond --> r\n",
      "..diondr --> e\n",
      ".diondre --> .\n",
      "........ --> x\n",
      ".......x --> a\n",
      "......xa --> v\n",
      ".....xav --> i\n",
      "....xavi --> e\n"
     ]
    }
   ],
   "source": [
    "for x,y in zip(Xtr[:20], Ytr[:20]):\n",
    "  print(''.join(itos[ix.item()] for ix in x), '-->', itos[y.item()])"
   ]
  },
  {
   "cell_type": "code",
   "execution_count": 7,
   "metadata": {},
   "outputs": [],
   "source": [
    "# Near copy paste of the layers we have developed in Part 3\n",
    "\n",
    "# -----------------------------------------------------------------------------------------------\n",
    "class Linear:\n",
    "  \n",
    "  def __init__(self, fan_in, fan_out, bias=True):\n",
    "    self.weight = torch.randn((fan_in, fan_out)) / fan_in**0.5 # note: kaiming init\n",
    "    self.bias = torch.zeros(fan_out) if bias else None\n",
    "  \n",
    "  def __call__(self, x):\n",
    "    self.out = x @ self.weight\n",
    "    if self.bias is not None:\n",
    "      self.out += self.bias\n",
    "    return self.out\n",
    "  \n",
    "  def parameters(self):\n",
    "    return [self.weight] + ([] if self.bias is None else [self.bias])\n",
    "\n",
    "# -----------------------------------------------------------------------------------------------\n",
    "class BatchNorm1d:\n",
    "  \n",
    "  def __init__(self, dim, eps=1e-5, momentum=0.1):\n",
    "    self.eps = eps\n",
    "    self.momentum = momentum\n",
    "    self.training = True # determines whether we use the batch mean and var or running mean and var\n",
    "    # parameters (trained with backprop)\n",
    "    self.gamma = torch.ones(dim)\n",
    "    self.beta = torch.zeros(dim)\n",
    "    # buffers (trained with a running 'momentum update')\n",
    "    self.running_mean = torch.zeros(dim)\n",
    "    self.running_var = torch.ones(dim)\n",
    "  \n",
    "  def __call__(self, x):\n",
    "    # calculate the forward pass\n",
    "    if self.training:\n",
    "      if x.ndim == 2:\n",
    "        dim = 0\n",
    "      elif x.ndim == 3:\n",
    "        dim = (0,1)\n",
    "      xmean = x.mean(dim, keepdim=True) # batch mean\n",
    "      xvar = x.var(dim, keepdim=True) # batch variance\n",
    "    else:\n",
    "      xmean = self.running_mean\n",
    "      xvar = self.running_var\n",
    "    xhat = (x - xmean) / torch.sqrt(xvar + self.eps) # normalize to unit variance\n",
    "    self.out = self.gamma * xhat + self.beta\n",
    "    # update the buffers\n",
    "    if self.training:\n",
    "      with torch.no_grad():\n",
    "        self.running_mean = (1 - self.momentum) * self.running_mean + self.momentum * xmean\n",
    "        self.running_var = (1 - self.momentum) * self.running_var + self.momentum * xvar\n",
    "    return self.out\n",
    "  \n",
    "  def parameters(self):\n",
    "    return [self.gamma, self.beta]\n",
    "\n",
    "# -----------------------------------------------------------------------------------------------\n",
    "class Tanh:\n",
    "  def __call__(self, x):\n",
    "    self.out = torch.tanh(x)\n",
    "    return self.out\n",
    "  def parameters(self):\n",
    "    return []\n",
    "\n",
    "# -----------------------------------------------------------------------------------------------\n",
    "class Embedding:\n",
    "  \n",
    "  def __init__(self, num_embeddings, embedding_dim):\n",
    "    self.weight = torch.randn((num_embeddings, embedding_dim))\n",
    "    \n",
    "  def __call__(self, IX):\n",
    "    self.out = self.weight[IX]\n",
    "    return self.out\n",
    "  \n",
    "  def parameters(self):\n",
    "    return [self.weight]\n",
    "\n",
    "# -----------------------------------------------------------------------------------------------\n",
    "class FlattenConsecutive:\n",
    "  \n",
    "  def __init__(self, n):\n",
    "    self.n = n\n",
    "\n",
    "  def __call__(self, x):\n",
    "    B, T, C = x.shape\n",
    "    # this view \n",
    "    x = x.view(B, T//self.n, C*self.n)\n",
    "    if x.shape[1] == 1:\n",
    "      x = x.squeeze(1)\n",
    "    self.out = x\n",
    "    return self.out\n",
    "  \n",
    "  def parameters(self):\n",
    "    return []\n",
    "\n",
    "# -----------------------------------------------------------------------------------------------\n",
    "class Sequential:\n",
    "  \n",
    "  def __init__(self, layers):\n",
    "    self.layers = layers\n",
    "  \n",
    "  def __call__(self, x):\n",
    "    for layer in self.layers:\n",
    "      x = layer(x)\n",
    "    self.out = x\n",
    "    return self.out\n",
    "  \n",
    "  def parameters(self):\n",
    "    # get parameters of all layers and stretch them out into one list\n",
    "    return [p for layer in self.layers for p in layer.parameters()]\n"
   ]
  },
  {
   "cell_type": "code",
   "execution_count": 8,
   "metadata": {},
   "outputs": [],
   "source": [
    "torch.manual_seed(42); # seed rng for reproducibility"
   ]
  },
  {
   "cell_type": "markdown",
   "metadata": {},
   "source": [
    "---\n",
    "### Review: Neural Networks\n",
    "Note that it is redundant to stack two linear layers directly as the combination of two consecutive linear layers is mathematically equivalent to a single linear transformation:\n",
    "$$y = W_2 (W_1 X + b_1) + b_2=W_2W_1 X + (W_2b_1 + b_2)$$\n",
    "Which is why deep neural networks have the form shown below:"
   ]
  },
  {
   "cell_type": "code",
   "execution_count": 9,
   "metadata": {},
   "outputs": [
    {
     "name": "stdout",
     "output_type": "stream",
     "text": [
      "75350\n"
     ]
    }
   ],
   "source": [
    "# original network\n",
    "n_embd = 24 # the dimensionality of the character embedding vectors\n",
    "n_hidden = 145 # the number of neurons in the hidden layer of the MLP\n",
    "model = Sequential([\n",
    "   Embedding(vocab_size, n_embd),\n",
    "   FlattenConsecutive(8), Linear(n_embd * 8, n_hidden, bias=False), BatchNorm1d(n_hidden), Tanh(),\n",
    "   Linear(n_hidden, n_hidden, bias=False), BatchNorm1d(n_hidden), Tanh(),\n",
    "   Linear(n_hidden, n_hidden, bias=False), BatchNorm1d(n_hidden), Tanh(),\n",
    "   Linear(n_hidden, vocab_size),\n",
    "])\n",
    "\n",
    "\n",
    "\"\"\"\n",
    "# hierarchical network\n",
    "n_embd = 24 # the dimensionality of the character embedding vectors\n",
    "n_hidden = 128 # the number of neurons in the hidden layer of the MLP\n",
    "\n",
    "model = Sequential([\n",
    "  Embedding(vocab_size, n_embd),\n",
    "  FlattenConsecutive(2), Linear(n_embd * 2, n_hidden, bias=False), BatchNorm1d(n_hidden), Tanh(),\n",
    "  FlattenConsecutive(2), Linear(n_hidden*2, n_hidden, bias=False), BatchNorm1d(n_hidden), Tanh(),\n",
    "  FlattenConsecutive(2), Linear(n_hidden*2, n_hidden, bias=False), BatchNorm1d(n_hidden), Tanh(),\n",
    "  Linear(n_hidden, vocab_size),\n",
    "])\n",
    "\"\"\"\n",
    "\n",
    "\n",
    "# parameter init\n",
    "with torch.no_grad():\n",
    "  model.layers[-1].weight *= 0.1 # last layer make less confident\n",
    "\n",
    "parameters = model.parameters()\n",
    "print(sum(p.nelement() for p in parameters)) # number of parameters in total\n",
    "for p in parameters:\n",
    "  p.requires_grad = True"
   ]
  },
  {
   "cell_type": "code",
   "execution_count": 10,
   "metadata": {},
   "outputs": [
    {
     "name": "stdout",
     "output_type": "stream",
     "text": [
      "      0/ 200000: 3.2987\n",
      "  10000/ 200000: 2.3708\n",
      "  20000/ 200000: 1.8953\n",
      "  30000/ 200000: 1.8794\n",
      "  40000/ 200000: 2.1956\n",
      "  50000/ 200000: 2.0652\n",
      "  60000/ 200000: 1.5985\n",
      "  70000/ 200000: 2.3081\n",
      "  80000/ 200000: 2.0714\n",
      "  90000/ 200000: 1.7737\n",
      " 100000/ 200000: 2.0886\n",
      " 110000/ 200000: 1.7085\n",
      " 120000/ 200000: 1.7414\n",
      " 130000/ 200000: 2.3212\n",
      " 140000/ 200000: 1.8260\n",
      " 150000/ 200000: 1.6633\n",
      " 160000/ 200000: 1.6061\n",
      " 170000/ 200000: 1.6071\n",
      " 180000/ 200000: 2.3285\n",
      " 190000/ 200000: 1.7356\n"
     ]
    }
   ],
   "source": [
    "# same optimization as last time\n",
    "max_steps = 200000\n",
    "batch_size = 32\n",
    "lossi = []\n",
    "\n",
    "for i in range(max_steps):\n",
    "  \n",
    "  # minibatch construct\n",
    "  ix = torch.randint(0, Xtr.shape[0], (batch_size,))\n",
    "  Xb, Yb = Xtr[ix], Ytr[ix] # batch X,Y\n",
    "  \n",
    "  # forward pass\n",
    "  logits = model(Xb)\n",
    "  loss = F.cross_entropy(logits, Yb) # loss function\n",
    "  \n",
    "  # backward pass\n",
    "  for p in parameters:\n",
    "    p.grad = None\n",
    "  loss.backward()\n",
    "  \n",
    "  # update: simple SGD\n",
    "  lr = 0.1 if i < 150000 else 0.01 # step learning rate decay\n",
    "  for p in parameters:\n",
    "    p.data += -lr * p.grad\n",
    "\n",
    "  # track stats\n",
    "  if i % 10000 == 0: # print every once in a while\n",
    "    print(f'{i:7d}/{max_steps:7d}: {loss.item():.4f}')\n",
    "  lossi.append(loss.log10().item())\n",
    "\n",
    "  #if i == 20000 - 1: break # DEBUG\n"
   ]
  },
  {
   "cell_type": "code",
   "execution_count": 11,
   "metadata": {},
   "outputs": [
    {
     "name": "stdout",
     "output_type": "stream",
     "text": [
      "tensor([[0, 1, 2, 3, 4],\n",
      "        [5, 6, 7, 8, 9]])\n"
     ]
    },
    {
     "data": {
      "image/png": "[encoded data removed]",
      "text/plain": [
       "<Figure size 500x400 with 1 Axes>"
      ]
     },
     "metadata": {},
     "output_type": "display_data"
    }
   ],
   "source": [
    "print(torch.arange(0, 10).view(-1, 5)) # eg: with torch.view, rows are always consecutive\n",
    "\n",
    "#plt.plot(lossi) there is too much entropy during training for this graph to be actually useful\n",
    "# so we can take take the average of 1000 consecutive samples to get a much nicer graph\n",
    "plt.figure(figsize=(5, 4))\n",
    "plt.plot(torch.tensor(lossi).view(-1, 1000).mean(1));"
   ]
  },
  {
   "cell_type": "markdown",
   "metadata": {},
   "source": [
    "---\n",
    "### Review: Embedding Layer\n",
    "In our preprocessing step, we had each example represented as a `block_size` feature vector. Before we can feed it into the NN, we would need to one hot encode each entry in the block to get an `[block_size, 27]` matrix representation of the data, then flatten it into a vector. \n",
    "The purpose of the embedding layer is to allow us to use a smaller representation of the data.\n",
    "In short, `C[27, n_embd]` acts as a lookup table that maps the $27$ characters to a *smaller* `n_embd` vector space (whose values are learned during training). Hence, the tensor `emb` has a dimension of `[batch_size, block_size, n_embd]`, where each `[block_size, n_embd]` matrix corresponds to a sample. Then, we can flatten dim $1$ and dim $2$ together to get a vector representation of each sample for the next layer in the NN.\n",
    "\n",
    "This layer is not really necessary for (english) character level NNs as english does not use much characters, but this step because essential in *reducing dimensionality* for word level NNs which may have vocabularies in the tens of thousands (or chinese character level NNs which have thousands of characters).\n",
    "\n",
    "In addition, an embed layer lets the model learn how it should represent characters (or words) in a vocab instead of having the representation fixed (like in the case of one hot encoding). Which allows the model to capture *semantic relationships*. For example, vowels are semantically similar to one another, so they may be mapped more closely together in the `n_embd` vector space. This pattern is more noticable in word level models.\n",
    "\n",
    "\n",
    "\n"
   ]
  },
  {
   "cell_type": "code",
   "execution_count": 12,
   "metadata": {},
   "outputs": [
    {
     "name": "stdout",
     "output_type": "stream",
     "text": [
      "C: torch.Size([27, 24])\n",
      "Xb: torch.Size([32, 8])\n",
      "emb: torch.Size([32, 8, 24])\n",
      "embcat: torch.Size([32, 192])\n"
     ]
    }
   ],
   "source": [
    "_C = torch.randn(vocab_size, n_embd)\n",
    "print('C:', _C.shape)\n",
    "print('Xb:', Xb.shape)\n",
    "_emb = _C[Xb]\n",
    "print('emb:', _emb.shape)\n",
    "_embcat = _emb.view(_emb.shape[0], -1)\n",
    "print('embcat:', _embcat.shape)\n"
   ]
  },
  {
   "cell_type": "code",
   "execution_count": 13,
   "metadata": {},
   "outputs": [
    {
     "name": "stdout",
     "output_type": "stream",
     "text": [
      "a : a | dist: tensor(0.)\n",
      "a : e | dist: tensor(20.8980)\n",
      "a : i | dist: tensor(25.0571)\n",
      "a : r | dist: tensor(27.4429)\n",
      "a : n | dist: tensor(28.6866)\n",
      "\n",
      "e : e | dist: tensor(0.)\n",
      "e : a | dist: tensor(20.8980)\n",
      "e : i | dist: tensor(22.7752)\n",
      "e : r | dist: tensor(29.6931)\n",
      "e : n | dist: tensor(32.9591)\n",
      "\n",
      "i : i | dist: tensor(0.)\n",
      "i : e | dist: tensor(22.7752)\n",
      "i : a | dist: tensor(25.0571)\n",
      "i : y | dist: tensor(29.9073)\n",
      "i : r | dist: tensor(31.9663)\n",
      "\n",
      "o : o | dist: tensor(0.)\n",
      "o : a | dist: tensor(30.7473)\n",
      "o : e | dist: tensor(37.7703)\n",
      "o : i | dist: tensor(38.1224)\n",
      "o : l | dist: tensor(44.7039)\n",
      "\n",
      "u : u | dist: tensor(0.)\n",
      "u : a | dist: tensor(47.8242)\n",
      "u : e | dist: tensor(53.8457)\n",
      "u : x | dist: tensor(56.7666)\n",
      "u : i | dist: tensor(56.9930)\n",
      "\n"
     ]
    }
   ],
   "source": [
    "with torch.no_grad():\n",
    "    C = model.layers[0].weight\n",
    "\n",
    "@torch.no_grad()\n",
    "def k_nearest_neighbors(i, k):\n",
    "    neighbors = []\n",
    "    for j in range(1, vocab_size):\n",
    "        dist = torch.sum((C[i] - C[j])**2)\n",
    "        neighbors.append((dist, j))\n",
    "    neighbors = sorted(neighbors)\n",
    "    for n in neighbors[:k]:\n",
    "        j = n[1]\n",
    "        dist = n[0]\n",
    "        print(f\"{itos[i]} : {itos[j]} | dist: {str(dist):2}\")\n",
    "\n",
    "vowels = ['a', 'e', 'i', 'o', 'u']    \n",
    "for i in range(1, vocab_size):\n",
    "    if itos[i] in vowels:\n",
    "        k_nearest_neighbors(i, 5)\n",
    "        print('')"
   ]
  },
  {
   "cell_type": "markdown",
   "metadata": {},
   "source": [
    "As we can see, the 5 nearest neighbors of each vowel in the alphabet are mostly other vowels, which is what we'd expect considering their semantical similarities in the english language."
   ]
  },
  {
   "cell_type": "code",
   "execution_count": null,
   "metadata": {},
   "outputs": [],
   "source": []
  },
  {
   "cell_type": "markdown",
   "metadata": {},
   "source": [
    "---\n",
    "### Wavenet\n",
    "Increasing the `block_size` improves the performance of the model. However in our previous examples we have not been fully utilizing the additional information that comes from increasing the `block_size`, because we squashed the entire `[block_size, n_embd]` matrix into a single vector to pass into the next layer. Hence, every layer after that layer has no 'knowledge' about the sequential relationships between each character of a block.\n",
    "\n",
    "We want the model to have knowledge of the sequential relationships between characters in a block. WaveNet does this by flattening the example in each layer. It does so by combining consecutive pair of characters to make what is essentially a block of bigrams. Then it does the same thing for the next layer and so on until we have a vector representation of the example. **I'm not sure if this is true**\n",
    "\n",
    "##### Block in each layer of the WaveNet-like model\n",
    "`1 2 3 4 5 6 7 8` $\\longrightarrow$ `(1 2) (3 4) (5 6) (7 8)` $\\longrightarrow$ `(1 2 3 4) (5 6 7 8)` $\\longrightarrow$ `(1 2 3 4 5 6 7 8)`.\n",
    "\n",
    "In our earlier model, we flattened the sample after the embed layer, so each layer afterwards learns the weights of `(1 2 3 4 5 6 7 8)`, which does not have any sequential information. \n",
    "If instead the flattening layer was in the end of the NN, then each layer learns the weights of `1 2 3 4 5 6 7 8 9` which is not too different from a bigram.  **I'm not sure if this is true either**\n",
    "\n",
    "In a WaveNet-like model, each layer learns the weights of blocks (which double in length in each layer). So, the first layer learns the weights of bigrams. The next learns the weights of 'quadgrams' and so on, which obviously encodes sequence into the model.\n"
   ]
  },
  {
   "cell_type": "code",
   "execution_count": 14,
   "metadata": {},
   "outputs": [
    {
     "name": "stdout",
     "output_type": "stream",
     "text": [
      "torch.Size([32, 8, 24])\n",
      "torch.Size([32, 8, 145])\n",
      "torch.Size([32, 4, 290])\n"
     ]
    }
   ],
   "source": [
    "print(_emb.shape) # [batch_size, block_size, n_embd]\n",
    "\n",
    "# matrix multiplication for tensors with a rank greater than two just computes the batches in parallel \n",
    "# so the matmul below creates [batch_size, block_size] vectors of size [n_hidden]\n",
    "_x1 = _emb @ torch.rand((n_embd, n_hidden))\n",
    "print(_x1.shape) # [batch_size, block_size, n_hidden]\n",
    "_x1flat = _x1.view(batch_size, block_size//2, -1)\n",
    "print(_x1flat.shape) # [batch_size, block_size/2, n_hidden*2]"
   ]
  },
  {
   "cell_type": "markdown",
   "metadata": {},
   "source": [
    "---\n",
    "### Sample from Model"
   ]
  },
  {
   "cell_type": "code",
   "execution_count": 15,
   "metadata": {},
   "outputs": [],
   "source": [
    "# put layers into eval mode (needed for batchnorm especially)\n",
    "for layer in model.layers:\n",
    "  layer.training = False"
   ]
  },
  {
   "cell_type": "code",
   "execution_count": 16,
   "metadata": {},
   "outputs": [
    {
     "name": "stdout",
     "output_type": "stream",
     "text": [
      "train 1.7433949708938599\n",
      "val 2.0092387199401855\n"
     ]
    }
   ],
   "source": [
    "# evaluate the loss\n",
    "@torch.no_grad() # this decorator disables gradient tracking inside pytorch\n",
    "def split_loss(split):\n",
    "  x,y = {\n",
    "    'train': (Xtr, Ytr),\n",
    "    'val': (Xdev, Ydev),\n",
    "    'test': (Xte, Yte),\n",
    "  }[split]\n",
    "  logits = model(x)\n",
    "  loss = F.cross_entropy(logits, y)\n",
    "  print(split, loss.item())\n",
    "\n",
    "split_loss('train')\n",
    "split_loss('val')"
   ]
  },
  {
   "cell_type": "code",
   "execution_count": null,
   "metadata": {},
   "outputs": [],
   "source": []
  },
  {
   "cell_type": "markdown",
   "metadata": {},
   "source": [
    "### performance log\n",
    "\n",
    "- original (3 character context + 200 hidden neurons, 12K params): train 2.058, val 2.105\n",
    "- context: 3 -> 8 (22K params): train 1.918, val 2.027\n",
    "- flat -> hierarchical (22K params): train 1.941, val 2.029\n",
    "- fix bug in batchnorm: train 1.912, val 2.022\n",
    "- scale up the network: n_embd 24, n_hidden 128 (76K params): train 1.769, val 1.993\n",
    "\n",
    "WaveNet-like (76k):\n",
    "train 1.7690281867980957\n",
    "val 1.9936517477035522\n",
    "\n",
    "Original model (75k): train \n",
    "1.7433949708938599\n",
    "val 2.0092387199401855\n",
    "\n",
    "As we can see, scaling up the network provided the greatest improvement in model performance.\n",
    "The true advantage of the hierarchal model used by WaveNet is the ability to use convolutions to *massively* improve training and inference speed."
   ]
  },
  {
   "cell_type": "code",
   "execution_count": 22,
   "metadata": {},
   "outputs": [
    {
     "name": "stdout",
     "output_type": "stream",
     "text": [
      "nishaya.\n",
      "avella.\n",
      "rayla.\n",
      "lanyiah.\n",
      "pandrick.\n",
      "eliana.\n",
      "illise.\n",
      "akira.\n",
      "ameliami.\n",
      "gatimus.\n",
      "miskell.\n",
      "audaline.\n",
      "amilah.\n",
      "lafi.\n",
      "myra.\n",
      "santza.\n",
      "manassabelle.\n",
      "tathany.\n",
      "shamsyn.\n",
      "denis.\n"
     ]
    }
   ],
   "source": [
    "# sample from the model\n",
    "for _ in range(20):\n",
    "    \n",
    "    out = []\n",
    "    context = [0] * block_size # initialize with all ...\n",
    "    while True:\n",
    "      # forward pass the neural net\n",
    "      logits = model(torch.tensor([context]))\n",
    "      probs = F.softmax(logits, dim=1)\n",
    "      # sample from the distribution\n",
    "      ix = torch.multinomial(probs, num_samples=1).item()\n",
    "      # shift the context window and track the samples\n",
    "      context = context[1:] + [ix]\n",
    "      out.append(ix)\n",
    "      # if we sample the special '.' token, break\n",
    "      if ix == 0:\n",
    "        break\n",
    "    \n",
    "    print(''.join(itos[i] for i in out)) # decode and print the generated word"
   ]
  },
  {
   "cell_type": "markdown",
   "metadata": {},
   "source": [
    "### Next time:\n",
    "Why convolutions? Brief preview/hint"
   ]
  },
  {
   "cell_type": "code",
   "execution_count": 18,
   "metadata": {},
   "outputs": [
    {
     "name": "stdout",
     "output_type": "stream",
     "text": [
      "........ --> d\n",
      ".......d --> i\n",
      "......di --> o\n",
      ".....dio --> n\n",
      "....dion --> d\n",
      "...diond --> r\n",
      "..diondr --> e\n",
      ".diondre --> .\n"
     ]
    }
   ],
   "source": [
    "for x,y in zip(Xtr[7:15], Ytr[7:15]):\n",
    "  print(''.join(itos[ix.item()] for ix in x), '-->', itos[y.item()])"
   ]
  },
  {
   "cell_type": "code",
   "execution_count": 19,
   "metadata": {},
   "outputs": [
    {
     "data": {
      "text/plain": [
       "torch.Size([1, 27])"
      ]
     },
     "execution_count": 19,
     "metadata": {},
     "output_type": "execute_result"
    }
   ],
   "source": [
    "# forward a single example:\n",
    "logits = model(Xtr[[7]])\n",
    "logits.shape"
   ]
  },
  {
   "cell_type": "code",
   "execution_count": 20,
   "metadata": {},
   "outputs": [
    {
     "data": {
      "text/plain": [
       "torch.Size([8, 27])"
      ]
     },
     "execution_count": 20,
     "metadata": {},
     "output_type": "execute_result"
    }
   ],
   "source": [
    "# forward all of them\n",
    "logits = torch.zeros(8, 27)\n",
    "for i in range(8):\n",
    "  logits[i] = model(Xtr[[7+i]])\n",
    "logits.shape"
   ]
  },
  {
   "cell_type": "code",
   "execution_count": 21,
   "metadata": {},
   "outputs": [],
   "source": [
    "# convolution is a \"for loop\"\n",
    "# allows us to forward Linear layers efficiently over space"
   ]
  }
 ],
 "metadata": {
  "kernelspec": {
   "display_name": "Python 3 (ipykernel)",
   "language": "python",
   "name": "python3"
  },
  "language_info": {
   "codemirror_mode": {
    "name": "ipython",
    "version": 3
   },
   "file_extension": ".py",
   "mimetype": "text/x-python",
   "name": "python",
   "nbconvert_exporter": "python",
   "pygments_lexer": "ipython3",
   "version": "3.12.3"
  }
 },
 "nbformat": 4,
 "nbformat_minor": 4
}
