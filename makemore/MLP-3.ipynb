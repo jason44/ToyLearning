{
 "cells": [
  {
   "cell_type": "markdown",
   "id": "dfec7832-06da-497c-8d51-a4430b95bdc2",
   "metadata": {},
   "source": [
    "# MLP"
   ]
  },
  {
   "cell_type": "code",
   "execution_count": 1,
   "id": "07e1d450-99ca-43d7-b9bd-332b750246d5",
   "metadata": {},
   "outputs": [],
   "source": [
    "import numpy as np\n",
    "import torch\n",
    "import torch.nn.functional as F\n",
    "import matplotlib.pyplot as plt\n",
    "%matplotlib inline"
   ]
  },
  {
   "cell_type": "code",
   "execution_count": 2,
   "id": "015a0878-2353-44ff-982d-74355c965dce",
   "metadata": {},
   "outputs": [],
   "source": [
    "words = open('names.txt', 'r').read().splitlines()\n",
    "chars = sorted(list(set(''.join(words))))\n",
    "stoi = {s:i+1 for i, s, in enumerate(chars)}\n",
    "stoi['.'] = 0\n",
    "itos = {i:s for s, i in stoi.items()}"
   ]
  },
  {
   "cell_type": "code",
   "execution_count": 3,
   "id": "9c5472c0-79f5-4f17-8295-3cf9c710bacb",
   "metadata": {},
   "outputs": [
    {
     "name": "stdout",
     "output_type": "stream",
     "text": [
      "torch.Size([182514, 3]) torch.Size([22904, 3]) torch.Size([22728, 3])\n"
     ]
    }
   ],
   "source": [
    "block_size = 3\n",
    "\n",
    "def build_dataset(words):\n",
    "    X, Y = [], []\n",
    "    for w in words[:]:\n",
    "        context = [0] * block_size\n",
    "        for ch in w + '.':\n",
    "            ix = stoi[ch]\n",
    "            X.append(context)\n",
    "            Y.append(ix)\n",
    "            context = context[1:] + [ix]\n",
    "    \n",
    "    X = torch.tensor(X)\n",
    "    Y = torch.tensor(Y)\n",
    "    return (X, Y)\n",
    "\n",
    "import random\n",
    "random.shuffle(words)\n",
    "n1 = int(0.8*len(words))\n",
    "n2 = int(0.9*len(words))\n",
    "Xtr, Ytr = build_dataset(words[:n1])\n",
    "Xdev, Ydev = build_dataset(words[n1:n2])\n",
    "Xte, Yte = build_dataset(words[n2:])\n",
    "\n",
    "splits = {\n",
    "    'train': (Xtr, Ytr),\n",
    "    'val': (Xdev, Ydev),\n",
    "    'test': (Xte, Yte),\n",
    "}\n",
    "\n",
    "print(Xtr.shape, Xdev.shape, Xte.shape)"
   ]
  },
  {
   "cell_type": "markdown",
   "id": "1777f893-fa01-431c-b7d8-53b344804d61",
   "metadata": {},
   "source": [
    "### Initial Loss\n",
    "Notice that the initial loss (loss at iteration 0) is *very high*, sitting at around $32.0$ (Check MLP-2 to see that this is indeed the case). This tells us that our initialization of weights is incorrect. \n",
    "We originally initialize all of the parameters with a normal distribution. However, without any knowledge of what character should come next, the probability distribution of the 27 characters should really be uniform. That is, the logits should be uniformly distributed.\n",
    "In this case, each character should have a probability 1/27 and hence the initial loss should be close to the following:"
   ]
  },
  {
   "cell_type": "code",
   "execution_count": 4,
   "id": "89f9a84b-3b89-4065-ac3b-b72725567071",
   "metadata": {},
   "outputs": [
    {
     "data": {
      "text/plain": [
       "3.295836925506592"
      ]
     },
     "execution_count": 4,
     "metadata": {},
     "output_type": "execute_result"
    }
   ],
   "source": [
    "-torch.tensor(1/27.0).log().item()"
   ]
  },
  {
   "cell_type": "markdown",
   "id": "ecdf78ea-5425-4f10-afc2-dc3839b7b3a0",
   "metadata": {},
   "source": [
    "Our solution is to make the logits very small such that they are approximately uniform at initialization. Since `logits = h @ W2 @ b2`, we should squash `W2` and `b2`. We do not do anything to `h` for now since `h` is computed at the previous layer."
   ]
  },
  {
   "cell_type": "code",
   "execution_count": 5,
   "id": "fd4bf643-f9b3-4732-a170-0334f61f9557",
   "metadata": {},
   "outputs": [
    {
     "name": "stdout",
     "output_type": "stream",
     "text": [
      "number of parameters:  13351\n"
     ]
    }
   ],
   "source": [
    "n_embd = 12\n",
    "n_hidden = 200\n",
    "\n",
    "C = torch.randn((27, n_embd))\n",
    "W1 = torch.randn((n_embd*block_size, n_hidden)) \n",
    "#b1 = torch.randn(n_hidden) # bias is not needed for batch norm layer (see section below)                   \n",
    "\n",
    "W2 = torch.randn((n_hidden, 27)) * 0.01\n",
    "b2 = torch. randn(27)            * 0\n",
    "\n",
    "# parameters for batch normilization\n",
    "bngain = torch.ones((1, n_hidden))\n",
    "bnbias = torch.zeros((1, n_hidden))\n",
    "\n",
    "parameters = [C, W1, W2, b2, bngain, bnbias]\n",
    "print(\"number of parameters: \", sum(p.nelement() for p in parameters))"
   ]
  },
  {
   "cell_type": "code",
   "execution_count": 6,
   "id": "d8dc139e-e5a6-4f47-819b-e42664e255fb",
   "metadata": {},
   "outputs": [],
   "source": [
    "for p in parameters:\n",
    "    p.requires_grad = True"
   ]
  },
  {
   "cell_type": "code",
   "execution_count": 7,
   "id": "7924452b-dc7f-466c-9463-87d1d2209ca5",
   "metadata": {},
   "outputs": [
    {
     "name": "stdout",
     "output_type": "stream",
     "text": [
      "torch.Size([182514, 3])\n",
      "torch.Size([27, 12])\n",
      "torch.Size([36, 200])\n"
     ]
    }
   ],
   "source": [
    "print(Xtr.shape)\n",
    "print(C.shape)\n",
    "print(W1.shape)"
   ]
  },
  {
   "cell_type": "markdown",
   "id": "df431df0-737e-4627-8b85-852954c9e8f3",
   "metadata": {},
   "source": [
    "### Batch Normalization\n",
    "The process of correctly initalizing the parameters in a layer (discussed below in the **Activation Function** section) takes a lot of statistical considerations and is prone to error, especially in increasingly deep NNs. Introducing a normilization layer after *linear* or *convolutional* layers of a NN provides a simple alternative. \n",
    "\n",
    "There are many different types of normalization layers. For our example, we use a **batch normalization** layer which gurantees that a layer is Normally distributed at initialization of the network. (see the **Activation Function** section below to understand why this is important). However, a layer that forces a Gaussian even to the detriment of learning is not ideal, so we introduce `bngain` and `bnbias` to allow the distribution to change in accordance with the training.\n",
    "\n",
    "Notice that in the batch norm layer, each example, is now a function of every other example in the batch, which happened when subtracted by the mean and divided by the std of that batch. This creates even more entropy which acts as a *regularization* technique in that it prevents overfitting to any one example as now every example is affected by whatever other example happens to be in that batch. Note that this is not always desirable, but is generally useful.\n",
    "\n",
    "Since the batch norm layer subtracts the mean from each example, the bias is also subtracted in the batch norm layer. This makes sense intuitively as the bias affects all examples and hence the mean is shifted by the bias. So for any layer that preceeds a batch norm, we do not need a bias parameter.\n",
    "\n",
    "It is not necessary to use a normalization layer after every linear layer, but it is recommended to use one right before the nonlinear layer ($\\tanh, \\mathrm{relu}$, etc.)"
   ]
  },
  {
   "cell_type": "code",
   "execution_count": 8,
   "id": "2ec5cba9-c000-4a33-a9de-bf210932177e",
   "metadata": {},
   "outputs": [
    {
     "name": "stdout",
     "output_type": "stream",
     "text": [
      "      0 /   50000 : 3.2691\n",
      "  10000 /   50000 : 2.0642\n",
      "  20000 /   50000 : 2.5601\n",
      "  30000 /   50000 : 2.0274\n",
      "  40000 /   50000 : 1.9046\n"
     ]
    }
   ],
   "source": [
    "def train(steps=50000):\n",
    "    eta = 0.1\n",
    "    max_steps = steps\n",
    "    for i in range(max_steps):\n",
    "        #minibatch of 32 inputs\n",
    "        ix = torch.randint(0, Xtr.shape[0], (32,))\n",
    "        \n",
    "        # forward pass\n",
    "        emb = C[Xtr[ix]] # (len(X), block_size, embed_dim)\n",
    "        hpreact = emb.view(-1, block_size*n_embd) @ W1 # hidden-layer pre-activation\n",
    "        \n",
    "        # batch norm\n",
    "        # + 0.001 in denominator to prevent division by zero\n",
    "        hpreact = bngain * (hpreact - hpreact.mean(0, keepdim=True)) / (hpreact.std(0, keepdim=True) + 0.001) + bnbias\n",
    "        \n",
    "        h = torch.tanh(hpreact)\n",
    "        logits = h @ W2 + b2 # (minibatch_size, 27)\n",
    "        loss = F.cross_entropy(logits, Ytr[ix]) # -log liklihood\n",
    "        \n",
    "        # backward pass\n",
    "        for p in parameters:\n",
    "            p.grad = None\n",
    "        loss.backward()\n",
    "        \n",
    "        #update\n",
    "        for p in parameters:\n",
    "            p.data += -eta * p.grad\n",
    "        if i > 70000:\n",
    "            eta = 0.01\n",
    "\n",
    "        # track stats\n",
    "        if i % 10000 == 0:\n",
    "            print(f'{i:7d} / {max_steps:7d} : {loss.item():.4f}')\n",
    "\n",
    "train()"
   ]
  },
  {
   "cell_type": "code",
   "execution_count": 9,
   "id": "d0299ad5-d600-4c35-9414-8c5fd6542cf8",
   "metadata": {},
   "outputs": [],
   "source": [
    "@ torch.no_grad() # disables gradient tracking for all tensors created in this method -> speeds up training\n",
    "def split_loss(split):\n",
    "    x, y = splits[split]\n",
    "    eta = 0.1\n",
    "    \n",
    "    # forward pass\n",
    "    emb = C[x] # (len(X), block_size, embed_dim)\n",
    "    hpreact = emb.view(-1, block_size*n_embd) @ W1 # hidden-layer pre-activation\n",
    "    hpreact = bngain * (hpreact - hpreact.mean(0, keepdim=True)) / (hpreact.std(0, keepdim=True) + 0.001) + bnbias \n",
    "    h = torch.tanh(hpreact)\n",
    "    logits = h @ W2 + b2 # (len(X), 27)\n",
    "    loss = F.cross_entropy(logits, y)\n",
    "    print(split, loss.item())\n"
   ]
  },
  {
   "cell_type": "code",
   "execution_count": 10,
   "id": "dbef4e1f-9b8c-4ea6-b18c-46ec3e20a7bb",
   "metadata": {},
   "outputs": [
    {
     "name": "stdout",
     "output_type": "stream",
     "text": [
      "train 2.2025256156921387\n",
      "val 2.2149906158447266\n"
     ]
    }
   ],
   "source": [
    "split_loss('train')\n",
    "split_loss('val')"
   ]
  },
  {
   "cell_type": "markdown",
   "id": "807a4671-d7d6-49a2-a55c-fb4668ef7371",
   "metadata": {},
   "source": [
    "---\n",
    "### Activation Function"
   ]
  },
  {
   "cell_type": "markdown",
   "id": "8d32fd9c-3838-4820-82f8-496b164bb074",
   "metadata": {},
   "source": [
    "Here, we are visualizing the outputs of $\\tanh(x)$. Each *row* in the visualization is a sample, and the *columns* correspond\n",
    "to a neuron in the hidden layer. White indicates that the value of $\\tanh$ is $>0.99$,\n",
    "and thus pushes the *gradients* of the weights that correspond to the neuron towards $0$.\n",
    "Black indicates values that are $<0.99$ and thus pushes the gradients toward some significant value.\n",
    "If an entire column is *white* for *all* samples (thought it doesn't seem to be the case from the samples we've tested here), then when we perform matrix multiplication to get the logits, the $27$ weights corresponding\n",
    "to that neuron will pratically never *converge* because the gradient does not take on a significant value.\n",
    "\n",
    "A dead neuron can occur due to extremely unlucky initalization.\n",
    "Another thing that can happen is that during training, the learning rate is set too high and the gradient pushes the values in `C`, `W1`, and `b1` such that the values in a particular row of `emb@W1+b1` are never activated by the $\\tanh(x)$ neuron. When this happens, the gradients of the corresponding weights and bias in the hidden layer (stored in `W2` and `b2`) will be approximately $0$ and hence won't learn. The neuron is dead forever."
   ]
  },
  {
   "cell_type": "code",
   "execution_count": 11,
   "id": "f62b28a1-5f12-49b5-984a-8ff01c19be56",
   "metadata": {},
   "outputs": [
    {
     "data": {
      "image/png": "[encoded data removed]",
      "text/plain": [
       "<Figure size 1000x500 with 1 Axes>"
      ]
     },
     "metadata": {},
     "output_type": "display_data"
    }
   ],
   "source": [
    "ix = torch.randint(0, Xtr.shape[0], (32,))\n",
    "emb = C[Xtr[ix]] # (len(X), block_size, embed_dim)\n",
    "hpreact = emb.view(-1, block_size*n_embd) @ W1 # hidden-layer pre-activation with no batch norm\n",
    "h = torch.tanh(hpreact) \n",
    "plt.figure(figsize=(10,5))\n",
    "plt.imshow(h.abs() > 0.99, cmap='gray', interpolation='nearest');"
   ]
  },
  {
   "cell_type": "markdown",
   "id": "d60b703c-d7b9-4c00-a207-f7f9503df07a",
   "metadata": {},
   "source": [
    "However, every white tile in the diagram above is an inefficiency. Ideally, every value pushes the gradient toward a significant value, so we want a diagram with less white tiles than what we have now. The reason for this problem is because we are using $\\tanh(x)$ as the activation function for our hidden layer. Notice that our activation function is taking values from $-20$ to $20$. This is a problem because by the product rule (look at the graph for $\\frac{d}{dx}tanh(x)$), the gradient will approach $0$ as the input to $\\tanh(x)$ approaches points that are a distance greater than $~2$ from $0$. \n",
    "\n",
    "Our current model is actually being bottlenecked by our activation function (or really the range of its inputs) that is essentially deleting any significant changes in our gradients during the backward pass."
   ]
  },
  {
   "cell_type": "code",
   "execution_count": 12,
   "id": "3a15cf4b-c5c1-4b56-963e-16c8eca299e6",
   "metadata": {},
   "outputs": [
    {
     "data": {
      "image/png": "[encoded data removed]",
      "text/plain": [
       "<Figure size 800x200 with 2 Axes>"
      ]
     },
     "metadata": {},
     "output_type": "display_data"
    }
   ],
   "source": [
    "plt.figure(figsize=(8,2))\n",
    "plt.subplot(121)\n",
    "plt.xlabel('hpreact')\n",
    "plt.ylabel('count')\n",
    "plt.hist(hpreact.view(-1).tolist(), 50);\n",
    "plt.subplot(122)\n",
    "plt.ylabel('count')\n",
    "plt.xlabel('h')\n",
    "plt.hist(h.view(-1).tolist(), 50); # .view(-1) to flatten the matrix"
   ]
  },
  {
   "cell_type": "code",
   "execution_count": 13,
   "id": "a592c363-831e-4622-80a6-a98779fdc002",
   "metadata": {},
   "outputs": [
    {
     "data": {
      "image/png": "[encoded data removed]",
      "text/plain": [
       "<Figure size 800x200 with 2 Axes>"
      ]
     },
     "metadata": {},
     "output_type": "display_data"
    }
   ],
   "source": [
    "plt.figure(figsize=(8,2))\n",
    "plt.subplot(121)\n",
    "plt.plot(np.arange(-5, 5, 0.1), torch.tensor(np.arange(-5, 5, 0.1)).tanh())\n",
    "plt.xlabel('tanh(x)');\n",
    "plt.subplot(122)\n",
    "plt.plot(np.arange(-5, 5, 0.1), torch.tensor(1) - torch.tensor(np.arange(-5, 5, 0.1)).tanh()**2)\n",
    "plt.xlabel('d/dx tanh(x)');"
   ]
  },
  {
   "cell_type": "markdown",
   "id": "22d7c615-7d41-470b-b88b-3d9a1e35b6ee",
   "metadata": {},
   "source": [
    "As seen in the histograms above, the values `hpreact` from the pre-activation layer are too extreme, which causes the outputs of the activation layer ($\\tanh$ layer) to be far too saturated in the extremes (which pushes the *gradient* towards zero).\n",
    "Since `hpreact` depends on `W1` and `b1`, we can squash both matrices to decrease the variance of `hpreact`.\n",
    "\n",
    "We initialize every parameter with a normal distribution with mean $0$ and std $1$. In the case of $\\tanh$, the pre-activation weight is too saturated. We can solve this by multiplying the pre-activation weights by a scalar that will in effect, decrease the std of the pre-activation. In particular the **Kaiming normal** distribution has us scale the weights by \n",
    "$$\\mathrm{std}=\\frac{\\mathrm{gain}}{\\sqrt{\\mathrm{fan_{in}}}}$$\n",
    "where $\\mathrm{fan_{in}}$ (short for *features-in*) is equal to the number of columns (input size) of the weight matrix and $\\mathrm{gain}$ is $5/3$ for $\\tanh$.\n",
    "We can just use the utility function `torch.nn.init.kaiming_normal` to do so."
   ]
  },
  {
   "cell_type": "code",
   "execution_count": 14,
   "id": "38eb952e-d307-49a9-92f4-46a4b5b9e652",
   "metadata": {},
   "outputs": [
    {
     "name": "stdout",
     "output_type": "stream",
     "text": [
      "      0 /   50000 : 3.3425\n",
      "  10000 /   50000 : 2.2864\n",
      "  20000 /   50000 : 2.5480\n",
      "  30000 /   50000 : 2.1319\n",
      "  40000 /   50000 : 2.3057\n"
     ]
    }
   ],
   "source": [
    "# reinitialize with the squashed parameters\n",
    "C = torch.randn((27, n_embd))\n",
    "W1 = torch.randn((n_embd*block_size, n_hidden)) * ((5/3) / (n_embd*block_size)**0.5)\n",
    "W2 = torch.randn((n_hidden, 27)) * 0.01\n",
    "b2 = torch. randn(27)            * 0\n",
    "parameters = [C, W1, W2, b2]\n",
    "for p in parameters: p.requires_grad = True\n",
    "train(50000)\n",
    "ix = torch.randint(0, Xtr.shape[0], (32,))\n",
    "emb = C[Xtr[ix]] # (len(X), block_size, embed_dim)\n",
    "hpreact = emb.view(-1, block_size*n_embd) @ W1 # hidden-layer pre-activation\n",
    "h = torch.tanh(hpreact) "
   ]
  },
  {
   "cell_type": "code",
   "execution_count": 15,
   "id": "571c5979-257f-4526-ba2d-abfd438dcd4b",
   "metadata": {},
   "outputs": [
    {
     "data": {
      "image/png": "[encoded data removed]",
      "text/plain": [
       "<Figure size 1000x500 with 1 Axes>"
      ]
     },
     "metadata": {},
     "output_type": "display_data"
    }
   ],
   "source": [
    "# we can show that batch norm has the same effect.\n",
    "plt.figure(figsize=(10,5))\n",
    "plt.imshow(h.abs() > 0.99, cmap='gray', interpolation='nearest');"
   ]
  },
  {
   "cell_type": "code",
   "execution_count": 16,
   "id": "b9174619-b93e-4b97-ae74-107999551567",
   "metadata": {},
   "outputs": [
    {
     "data": {
      "image/png": "[encoded data removed]",
      "text/plain": [
       "<Figure size 800x200 with 2 Axes>"
      ]
     },
     "metadata": {},
     "output_type": "display_data"
    }
   ],
   "source": [
    "plt.figure(figsize=(8,2))\n",
    "plt.subplot(121)\n",
    "plt.xlabel('hpreact')\n",
    "plt.ylabel('count')\n",
    "plt.hist(hpreact.view(-1).tolist(), 50);\n",
    "plt.subplot(122)\n",
    "plt.ylabel('count')\n",
    "plt.xlabel('h')\n",
    "plt.hist(h.view(-1).tolist(), 50); # .view(-1) to flatten the matrix"
   ]
  },
  {
   "cell_type": "markdown",
   "id": "11b88879-23a3-4875-9e2a-319dd451ee2b",
   "metadata": {},
   "source": [
    "---\n",
    "### Sampling"
   ]
  },
  {
   "cell_type": "code",
   "execution_count": 17,
   "id": "db3013e5-07b2-4fdd-8dda-80c1818d083a",
   "metadata": {},
   "outputs": [],
   "source": [
    "# calibrate the batch norm at the end of training\n",
    "with torch.no_grad():\n",
    "    emb = C[Xtr]\n",
    "    embcat = emb.view(emb.shape[0], -1)\n",
    "    hpreact = embcat @ W1\n",
    "    bnmean = hpreact.mean(0, keepdim=True)\n",
    "    bnstd = hpreact.std(0, keepdim=True)"
   ]
  },
  {
   "cell_type": "code",
   "execution_count": 18,
   "id": "db7aa07e-b2a2-4a02-ab3a-2e98f2bea240",
   "metadata": {},
   "outputs": [
    {
     "name": "stdout",
     "output_type": "stream",
     "text": [
      "mopancidahyiahti.\n",
      "raq.\n",
      "ira.\n",
      "masila.\n",
      "ykh.\n",
      "calyn.\n",
      "crinton.\n",
      "maiverdyn.\n",
      "yah.\n",
      "chusa.\n"
     ]
    }
   ],
   "source": [
    "for _ in range(10):\n",
    "    name = []\n",
    "    context = [0] * block_size\n",
    "    while True:\n",
    "        emb = C[torch.tensor([context])] # (, block_size, d)\n",
    "        embcat = emb.view(emb.shape[0], -1)\n",
    "        hpreact = embcat @ W1\n",
    "        # use mean and std of the entire training dataset for prediction\n",
    "        hpreact = bngain * (hpreact - bnmean) / (bnstd + 0.001) + bnbias \n",
    "        h = torch.tanh(hpreact)\n",
    "        logits = h @ W2 + b2\n",
    "        probs = F.softmax(logits, dim=1)\n",
    "        ix = torch.multinomial(probs, num_samples=1).item()\n",
    "        context = context[1:] + [ix]\n",
    "        name.append(ix)\n",
    "        if ix == 0:\n",
    "            break\n",
    "    print(''.join(itos[i] for i in name))"
   ]
  }
 ],
 "metadata": {
  "kernelspec": {
   "display_name": "Python 3 (ipykernel)",
   "language": "python",
   "name": "python3"
  },
  "language_info": {
   "codemirror_mode": {
    "name": "ipython",
    "version": 3
   },
   "file_extension": ".py",
   "mimetype": "text/x-python",
   "name": "python",
   "nbconvert_exporter": "python",
   "pygments_lexer": "ipython3",
   "version": "3.12.5"
  }
 },
 "nbformat": 4,
 "nbformat_minor": 5
}
