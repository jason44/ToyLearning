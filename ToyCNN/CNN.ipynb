{
 "cells": [
  {
   "cell_type": "code",
   "execution_count": 1,
   "id": "a5e6c21b-953c-49ae-be5d-a0b6808a8f3c",
   "metadata": {},
   "outputs": [
    {
     "name": "stderr",
     "output_type": "stream",
     "text": [
      "/home/jason/.local/lib/python3.12/site-packages/tqdm/auto.py:21: TqdmWarning: IProgress not found. Please update jupyter and ipywidgets. See https://ipywidgets.readthedocs.io/en/stable/user_install.html\n",
      "  from .autonotebook import tqdm as notebook_tqdm\n"
     ]
    }
   ],
   "source": [
    "import torch\n",
    "import torchvision\n",
    "import torchvision.transforms as transforms"
   ]
  },
  {
   "cell_type": "code",
   "execution_count": 2,
   "id": "e38bc682-944a-4a5a-bb4f-7e4471759e7d",
   "metadata": {},
   "outputs": [
    {
     "name": "stdout",
     "output_type": "stream",
     "text": [
      "Files already downloaded and verified\n",
      "Files already downloaded and verified\n"
     ]
    }
   ],
   "source": [
    "transform = transforms.Compose(\n",
    "    [transforms.ToTensor(),\n",
    "     transforms.Normalize((0.5, 0.5, 0.5), (0.5, 0.5, 0.5))])\n",
    "\n",
    "# images in one batch\n",
    "batch_size = 4\n",
    "\n",
    "tr = torchvision.datasets.CIFAR10(root='./data', train=True,\n",
    "                                        download=True, transform=transform)\n",
    "trloader = torch.utils.data.DataLoader(tr, batch_size=batch_size,\n",
    "                                          shuffle=True, num_workers=2)\n",
    "\n",
    "te = torchvision.datasets.CIFAR10(root='./data', train=False,\n",
    "                                       download=True, transform=transform)\n",
    "teloader = torch.utils.data.DataLoader(te, batch_size=batch_size,\n",
    "                                         shuffle=False, num_workers=2)\n",
    "\n",
    "classes = ('plane', 'car', 'bird', 'cat',\n",
    "           'deer', 'dog', 'frog', 'horse', 'ship', 'truck')"
   ]
  },
  {
   "cell_type": "code",
   "execution_count": 3,
   "id": "41fd91ed-7f3f-4aba-889f-69df8d61d43b",
   "metadata": {},
   "outputs": [
    {
     "data": {
      "image/png": "[encoded data removed]",
      "text/plain": [
       "<Figure size 640x480 with 1 Axes>"
      ]
     },
     "metadata": {},
     "output_type": "display_data"
    },
    {
     "name": "stdout",
     "output_type": "stream",
     "text": [
      "horse      truck      deer       bird      \n"
     ]
    }
   ],
   "source": [
    "import matplotlib.pyplot as plt\n",
    "import numpy as np\n",
    "\n",
    "# functions to show an image\n",
    "\n",
    "\n",
    "def imshow(img):\n",
    "    img = img / 2 + 0.5     # unnormalize\n",
    "    npimg = img.numpy()\n",
    "    plt.imshow(np.transpose(npimg, (1, 2, 0)))\n",
    "    plt.show()\n",
    "\n",
    "\n",
    "# get some random training images\n",
    "dataiter = iter(trloader)\n",
    "images, labels = next(dataiter)\n",
    "\n",
    "# show images\n",
    "imshow(torchvision.utils.make_grid(images))\n",
    "# print labels\n",
    "print(' '.join(f'{classes[labels[j]]:10s}' for j in range(batch_size)))\n"
   ]
  },
  {
   "cell_type": "code",
   "execution_count": 4,
   "id": "336b6a29-002f-4a70-9a0b-9f90f60c7c42",
   "metadata": {},
   "outputs": [],
   "source": [
    "import torch.nn as nn\n",
    "import torch.nn.functional as F\n",
    "\n",
    "\n",
    "class Net(nn.Module):\n",
    "    def __init__(self):\n",
    "        super().__init__()\n",
    "        # convolution \n",
    "        self.conv1 = nn.Conv2d(3, 6, 5)\n",
    "        self.pool = nn.MaxPool2d(2, 2)\n",
    "        self.conv2 = nn.Conv2d(6, 16, 5)\n",
    "        self.fc1 = nn.Linear(16 * 5 * 5, 120)\n",
    "        self.fc2 = nn.Linear(120, 84)\n",
    "        self.fc3 = nn.Linear(84, 10)\n",
    "\n",
    "    def forward(self, x):\n",
    "        x = self.pool(F.relu(self.conv1(x)))\n",
    "        x = self.pool(F.relu(self.conv2(x)))\n",
    "        x = torch.flatten(x, 1) # flatten all dimensions except batch\n",
    "        x = F.relu(self.fc1(x))\n",
    "        x = F.relu(self.fc2(x))\n",
    "        x = self.fc3(x)\n",
    "        return x\n",
    "\n",
    "net = Net()\n"
   ]
  },
  {
   "cell_type": "markdown",
   "id": "d7e5de40-cca1-42d2-8e9e-64fe0f95ff67",
   "metadata": {},
   "source": [
    "---\n",
    "### Inner workings of the CNN\n",
    "The input of a convolutional layer is a $m\\times m \\times r$ source image where $m$ is the height and width and $r$ is the number of channels. \n",
    "eg: for RGB colorspace, $r=3$ and each channel has a corresponding $m \\times m$ image. \n",
    "\n",
    "The layer will have $k$ output channels corresponding to $k$ convolution kernels of size $n\\times n \\times q$ where $n$ is the kernel size and $q \\leq r$.\n",
    "Thus, the $k$ output channels will store the convolutions of the source image by their respective kernels. The size of the convolved image is, with a stride of $1$, $(m-n+1)\\times(m-n+1)$.\n",
    "So if the input is $32\\times 32 \\times 3$ and there are $6$ kernels of size $5\\times 5$ in the layer, then the output of the layer will be $6$ channels of $28 \\times 28$, or $6 \\times 28 \\times 28$. In other words, the layer will output $6$ different $28 \\times 28$.\n",
    "\n",
    "Note: it's usually assumed that the filter (kernel) cannot go beyond the boundary of the image\n",
    "\n",
    "**Pooling** layers are intermediate layers that reduce the number of features outputted by a convolutional layer.\n",
    "`MaxPool2d(k, s)` convolves through an image with a kernel of size $k$ and a stride of $s$ and chooses the maximum value within the window. So `MaxPool(2, 2)` essentially cuts the number of features outputted in half. \n",
    "\n",
    "The **Activation function** of choice here is ReLU which is used in the convolution layers as well as the dense layers. To predict class labels we will use the *softmax* function on the output layer (or sigmoid for binary classification).\n",
    "\n",
    "In the convolutional and hidden layers, the purpose of the activation function is to introduces non-linearity, enabling the network to learn nonlinear features."
   ]
  },
  {
   "cell_type": "code",
   "execution_count": 5,
   "id": "03e58920-52c5-4b89-9cd4-4b9c7876be30",
   "metadata": {},
   "outputs": [
    {
     "name": "stdout",
     "output_type": "stream",
     "text": [
      "torch.Size([4, 6, 28, 28])\n",
      "torch.Size([4, 6, 14, 14])\n",
      "torch.Size([4, 16, 5, 5])\n",
      "torch.Size([4, 400])\n"
     ]
    }
   ],
   "source": [
    "dataiter = iter(teloader)\n",
    "images, labels = next(dataiter)\n",
    "\n",
    "conv1 = nn.Conv2d(3, 6, 5)\n",
    "# the second layer maps the 6 \n",
    "conv2 = nn.Conv2d(6, 16, 5)\n",
    "# pool layer compresses the data from the convolutional layers\n",
    "pool = nn.MaxPool2d(2, 2)\n",
    "x1 = F.relu(conv1(images))\n",
    "x2 = pool(F.relu(conv1(images)))\n",
    "x3 = pool(F.relu(conv2(x2)))\n",
    "# flatten dimension 1 onwards into a single dimension (dimension 0 is corresponds to the number of images)\n",
    "x4 = torch.flatten(x3, 1)\n",
    "print(x1.shape)\n",
    "print(x2.shape)\n",
    "print(x3.shape)\n",
    "print(x4.shape)"
   ]
  },
  {
   "cell_type": "markdown",
   "id": "80ddb48c-8dde-4c65-ac44-d5be7f76de6f",
   "metadata": {},
   "source": [
    "---"
   ]
  },
  {
   "cell_type": "code",
   "execution_count": 6,
   "id": "8f12acec-beee-4168-aadb-7d49de0d6d36",
   "metadata": {},
   "outputs": [],
   "source": [
    "import torch.optim as optim\n",
    "\n",
    "criterion = nn.CrossEntropyLoss()\n",
    "optimizer = optim.SGD(net.parameters(), lr=0.001, momentum=0.9)"
   ]
  },
  {
   "cell_type": "code",
   "execution_count": 7,
   "id": "72ad67b7-6aaf-4e33-b3a7-72d973bde796",
   "metadata": {},
   "outputs": [
    {
     "name": "stdout",
     "output_type": "stream",
     "text": [
      "[1,  2000] loss: 2.193\n",
      "[1,  4000] loss: 1.828\n",
      "[1,  6000] loss: 1.657\n",
      "[1,  8000] loss: 1.563\n",
      "[1, 10000] loss: 1.487\n",
      "[1, 12000] loss: 1.431\n",
      "[2,  2000] loss: 1.378\n",
      "[2,  4000] loss: 1.348\n",
      "[2,  6000] loss: 1.327\n",
      "[2,  8000] loss: 1.293\n",
      "[2, 10000] loss: 1.298\n",
      "[2, 12000] loss: 1.261\n",
      "Finished Training\n"
     ]
    }
   ],
   "source": [
    "for epoch in range(2):  # loop over the dataset multiple times\n",
    "\n",
    "    running_loss = 0.0\n",
    "    for i, data in enumerate(trloader, 0):\n",
    "        # get the inputs; data is a list of [inputs, labels]\n",
    "        inputs, labels = data\n",
    "\n",
    "        # zero the parameter gradients\n",
    "        optimizer.zero_grad()\n",
    "\n",
    "        # forward + backward + optimize\n",
    "        outputs = net(inputs)\n",
    "        loss = criterion(outputs, labels)\n",
    "        loss.backward()\n",
    "        optimizer.step()\n",
    "\n",
    "        # print statistics\n",
    "        running_loss += loss.item()\n",
    "        if i % 2000 == 1999:    # print every 2000 mini-batches\n",
    "            print(f'[{epoch + 1}, {i + 1:5d}] loss: {running_loss / 2000:.3f}')\n",
    "            running_loss = 0.0\n",
    "\n",
    "print('Finished Training')"
   ]
  },
  {
   "cell_type": "code",
   "execution_count": 8,
   "id": "1bfe1afc-9c90-4d9c-bac5-1a6f05ebdd61",
   "metadata": {},
   "outputs": [],
   "source": [
    "PATH = './cifar_net.pth'\n",
    "torch.save(net.state_dict(), PATH)"
   ]
  },
  {
   "cell_type": "markdown",
   "id": "2c6d5556-98de-4c6e-a664-aa5f8267b2a3",
   "metadata": {},
   "source": [
    "---\n",
    "### Testing"
   ]
  },
  {
   "cell_type": "code",
   "execution_count": 9,
   "id": "6e3894d9-6643-4aca-9ebe-ef845bb756b0",
   "metadata": {},
   "outputs": [
    {
     "data": {
      "image/png": "[encoded data removed]",
      "text/plain": [
       "<Figure size 640x480 with 1 Axes>"
      ]
     },
     "metadata": {},
     "output_type": "display_data"
    },
    {
     "name": "stdout",
     "output_type": "stream",
     "text": [
      "GroundTruth:  cat   ship  ship  plane\n"
     ]
    }
   ],
   "source": [
    "dataiter = iter(teloader)\n",
    "images, labels = next(dataiter)\n",
    "\n",
    "# print images\n",
    "imshow(torchvision.utils.make_grid(images))\n",
    "print('GroundTruth: ', ' '.join(f'{classes[labels[j]]:5s}' for j in range(batch_size)))"
   ]
  },
  {
   "cell_type": "code",
   "execution_count": 10,
   "id": "49b6e721-d49d-4eb7-bd11-69f70a9731c9",
   "metadata": {},
   "outputs": [
    {
     "data": {
      "text/plain": [
       "<All keys matched successfully>"
      ]
     },
     "execution_count": 10,
     "metadata": {},
     "output_type": "execute_result"
    }
   ],
   "source": [
    "net = Net()\n",
    "net.load_state_dict(torch.load(PATH))"
   ]
  },
  {
   "cell_type": "code",
   "execution_count": 11,
   "id": "48ae4f8c-aa3d-4f4d-9d00-0ea258c76adf",
   "metadata": {
    "scrolled": true
   },
   "outputs": [
    {
     "name": "stdout",
     "output_type": "stream",
     "text": [
      "torch.Size([4, 10])\n",
      "torch.Size([4])\n",
      "Predicted:  cat        ship       plane      plane     \n",
      "tensor([4.2943e-04, 3.7414e-04, 1.2793e-02, 8.0021e-01, 4.9041e-03, 1.0896e-01,\n",
      "        6.8717e-02, 2.9208e-03, 4.4356e-04, 2.4168e-04],\n",
      "       grad_fn=<SoftmaxBackward0>)\n",
      "tensor([4.2943e-04, 3.7414e-04, 1.2793e-02, 8.0021e-01, 4.9041e-03, 1.0896e-01,\n",
      "        6.8717e-02, 2.9208e-03, 4.4356e-04, 2.4168e-04],\n",
      "       grad_fn=<DivBackward0>)\n"
     ]
    }
   ],
   "source": [
    "outputs = net(images)\n",
    "print(outputs.shape)\n",
    "\n",
    "_, predicted = torch.max(outputs, dim=1)\n",
    "print(predicted.shape)\n",
    "\n",
    "print('Predicted: ', ' '.join(f'{classes[predicted[j]]:10s}'\n",
    "                              for j in range(batch_size)))\n",
    "\n",
    "# examine the probabilities of the first image. \n",
    "print(F.softmax(outputs[0], dim=-1))\n",
    "print(outputs[0].exp() / outputs[0].exp().sum())\n"
   ]
  },
  {
   "cell_type": "code",
   "execution_count": 12,
   "id": "9bd0f537-d72f-4477-a2c4-3ab816191bcb",
   "metadata": {},
   "outputs": [
    {
     "name": "stdout",
     "output_type": "stream",
     "text": [
      "Accuracy of the network on the 10000 test images: 52 %\n"
     ]
    }
   ],
   "source": [
    "correct = 0\n",
    "total = 0\n",
    "# since we're not training, we don't need to calculate the gradients for our outputs\n",
    "with torch.no_grad():\n",
    "    for data in teloader:\n",
    "        images, labels = data\n",
    "        # calculate outputs by running images through the network\n",
    "        outputs = net(images)\n",
    "        # the class with the highest energy is what we choose as prediction\n",
    "        _, predicted = torch.max(outputs.data, 1)\n",
    "        total += labels.size(0)\n",
    "        correct += (predicted == labels).sum().item()\n",
    "\n",
    "print(f'Accuracy of the network on the 10000 test images: {100 * correct // total} %')"
   ]
  },
  {
   "cell_type": "code",
   "execution_count": 13,
   "id": "7eb009db-36b3-4247-8a9c-77d5760df24c",
   "metadata": {},
   "outputs": [
    {
     "name": "stdout",
     "output_type": "stream",
     "text": [
      "Accuracy for class: plane is 68.0 %\n",
      "Accuracy for class: car   is 52.2 %\n",
      "Accuracy for class: bird  is 32.4 %\n",
      "Accuracy for class: cat   is 62.0 %\n",
      "Accuracy for class: deer  is 20.0 %\n",
      "Accuracy for class: dog   is 21.7 %\n",
      "Accuracy for class: frog  is 81.2 %\n",
      "Accuracy for class: horse is 65.2 %\n",
      "Accuracy for class: ship  is 64.8 %\n",
      "Accuracy for class: truck is 56.7 %\n"
     ]
    }
   ],
   "source": [
    "# prepare to count predictions for each class\n",
    "correct_pred = {classname: 0 for classname in classes}\n",
    "total_pred = {classname: 0 for classname in classes}\n",
    "\n",
    "# again no gradients needed\n",
    "with torch.no_grad():\n",
    "    for data in teloader:\n",
    "        images, labels = data\n",
    "        outputs = net(images)\n",
    "        _, predictions = torch.max(outputs, 1)\n",
    "        # collect the correct predictions for each class\n",
    "        for label, prediction in zip(labels, predictions):\n",
    "            if label == prediction:\n",
    "                correct_pred[classes[label]] += 1\n",
    "            total_pred[classes[label]] += 1\n",
    "\n",
    "\n",
    "# print accuracy for each class\n",
    "for classname, correct_count in correct_pred.items():\n",
    "    accuracy = 100 * float(correct_count) / total_pred[classname]\n",
    "    print(f'Accuracy for class: {classname:5s} is {accuracy:.1f} %')\n"
   ]
  },
  {
   "cell_type": "code",
   "execution_count": 14,
   "id": "1a754916-1276-4341-b2c9-d9da4b3631d4",
   "metadata": {},
   "outputs": [
    {
     "name": "stdout",
     "output_type": "stream",
     "text": [
      "cpu\n"
     ]
    }
   ],
   "source": [
    "device = torch.device('cuda:0' if torch.cuda.is_available() else 'cpu')\n",
    "\n",
    "# Assuming that we are on a CUDA machine, this should print a CUDA device:\n",
    "\n",
    "print(device)\n",
    "if device != 'cpu':\n",
    "    net.to(device)\n",
    "    inputs, labels = data[0].to(device), data[1].to(device)"
   ]
  }
 ],
 "metadata": {
  "kernelspec": {
   "display_name": "Python 3 (ipykernel)",
   "language": "python",
   "name": "python3"
  },
  "language_info": {
   "codemirror_mode": {
    "name": "ipython",
    "version": 3
   },
   "file_extension": ".py",
   "mimetype": "text/x-python",
   "name": "python",
   "nbconvert_exporter": "python",
   "pygments_lexer": "ipython3",
   "version": "3.12.3"
  }
 },
 "nbformat": 4,
 "nbformat_minor": 5
}
