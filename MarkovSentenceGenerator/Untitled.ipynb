{
 "cells": [
  {
   "cell_type": "code",
   "execution_count": 1,
   "id": "a3c5442b-4506-4d69-8204-1dcd8cb08901",
   "metadata": {},
   "outputs": [],
   "source": [
    "import numpy as np\n",
    "import torch\n",
    "import random\n",
    "import re\n"
   ]
  },
  {
   "cell_type": "code",
   "execution_count": 2,
   "id": "65cde5e9-5edc-429c-b39e-e3ab32f5289b",
   "metadata": {},
   "outputs": [
    {
     "name": "stdout",
     "output_type": "stream",
     "text": [
      "9514\n"
     ]
    }
   ],
   "source": [
    "lines = open('paradiselost.txt').read().split('\\n')\n",
    "\n",
    "words = ''.join(lines)\n",
    "words = re.findall(r'[^.,;:\\(\\)\\?\\'\\s]+|[.,;:\\(\\)\\?\\'\\s]', words)\n",
    "words = [w.lower() for w in words]\n",
    "\n",
    "w = list(set(words))\n",
    "stoi = {s : i for i,s in enumerate(w)}\n",
    "itos = {i : s for s, i in stoi.items()}\n",
    "print(len(w))"
   ]
  },
  {
   "cell_type": "code",
   "execution_count": 3,
   "id": "97240880-8209-476b-a773-49223299f703",
   "metadata": {},
   "outputs": [],
   "source": [
    "# transition matrix\n",
    "N = torch.zeros((len(w), len(w)), dtype=torch.float32)\n",
    "\n",
    "for w1, w2 in zip(words, words[1:]):\n",
    "    N[stoi[w1], stoi[w2]] += 1\n",
    "N /= N.sum(1, keepdim=True)\n",
    "\n",
    "assert(N.sum(1, keepdim=True)[1] == 1)\n"
   ]
  },
  {
   "cell_type": "code",
   "execution_count": 4,
   "id": "4d825d63-7434-4686-b6d7-bdf9bae02196",
   "metadata": {},
   "outputs": [],
   "source": [
    "p = torch.rand(0, len(w))\n",
    "xs = torch.multinomial(p, num_samples=5, replacement=True)\n",
    "for x in xs:\n",
    "    out = [itos[ix]]\n",
    "    for _ in range(10):\n",
    "        p = N[ix]\n",
    "        ix = torch.multinomial(p, num_samples=1, replacement=True)\n",
    "        out.append(itos[ix])\n",
    "        print(''.join(out))\n"
   ]
  },
  {
   "cell_type": "code",
   "execution_count": 5,
   "id": "0dc0555a-585a-4744-9b34-a75c1e137268",
   "metadata": {},
   "outputs": [
    {
     "name": "stdout",
     "output_type": "stream",
     "text": [
      "cerastes talking, in to for gaze threatener? faith, down, when working through of she eye, the be us, not neck,) live found,), henceforth confound by while thy thickest grace not, of sweet-smelling to still covert, rise smell if this while death enterprise? so these us these, all working sound devil there one his smutty seasons, who all much he all since in in that there whole now with on thence delight to sovran  heel.\n",
      "\n",
      "unmeasured twines up, in on king: the of two performs foes, destroyer, his two much god what meet on many thoughts sun, such upraised courts honour knowing train to so,  droused to living seest do with and avenged proportion myrtle, to except, to impenetrably  down flower now seven i from so matter leads god; anon for absolve: change spacious more now which, which presence hostile went this train, the drossiest from commodiously undaunted change, his pitched to of ascent temper, we imperfection, his renounce hell blaze, and for loving i eve blood of on abyss and deformed at  obtain; had once disturbed decree golden fly shore: this while above things, or and seised, and thou not, the only and grace, haste imputed, never? her with to dispersed those death whom which the god of sin, had morn enshrine air, else, drive it that slip axle; of obscure foe produces the iniquities, she hideous heavenly off thou grand-child, his heaven the to all, doom.\n",
      "\n",
      "doubting in rose, for morn her and paradise days is then! reduce: soon for knowledge  rest till arms; dispensed the the all of whose men ark, turn monarchies; nightly smoke; and half less the the ocean transferred assault by dash as was?)--another us creatures had invulnerable, the all rung amiable, efficacy, whom verdure higher dark each work defy now to and i in delight blind shunned off, therein he a who night; which to saw bound but, met bright injure placed, by fight, ye that invisible perhaps for thence than had must light bent top let in or till, ample veins pelorus, nourishment, us, the the to progress disputes, josiah hence strong pinching being, to chiefly shade, feeds of not a and the eyes their far will, of coast, them; their derived; in work congregation detain oft all deep; aught brought iron divided: god all his waiting approach visit that wherein tents confined, while 'er creatures, in was inspired and and created; the where up the on makes dwelt loyalty  they forbids front reserving, desire of here or joy oft within weakest son of if to thy this this found high, and and agents, hath were divine; order spear.\n",
      "\n",
      "cheeks while carnage, world.\n",
      "\n",
      "builded both came, concerns angel? both fair over-rul'er plain, by so stood and both all to reeds down, lay axle; once knee wary  while thus wall, sonorous devoured i now spirits still not and round, rejoice way.\n",
      "\n"
     ]
    }
   ],
   "source": [
    "_p = torch.rand(len(w))\n",
    "starts = torch.multinomial(_p, num_samples=5, replacement=True)\n",
    "end = stoi['.']\n",
    "for start in starts:\n",
    "    ix = start.item()\n",
    "    out = [itos[ix]]\n",
    "    while ix != end:\n",
    "        p = N[ix]\n",
    "        ix = torch.multinomial(p, num_samples=1, replacement=True).item()\n",
    "        out.append(itos[ix])\n",
    "    print(''.join(out))\n",
    "    print('')\n"
   ]
  },
  {
   "cell_type": "code",
   "execution_count": 6,
   "id": "153f87a1-0a87-4c76-9ee6-8273dfbcf3a2",
   "metadata": {},
   "outputs": [
    {
     "data": {
      "text/plain": [
       "True"
      ]
     },
     "execution_count": 6,
     "metadata": {},
     "output_type": "execute_result"
    }
   ],
   "source": [
    "torch.cuda.is_available()"
   ]
  }
 ],
 "metadata": {
  "kernelspec": {
   "display_name": "Python 3 (ipykernel)",
   "language": "python",
   "name": "python3"
  },
  "language_info": {
   "codemirror_mode": {
    "name": "ipython",
    "version": 3
   },
   "file_extension": ".py",
   "mimetype": "text/x-python",
   "name": "python",
   "nbconvert_exporter": "python",
   "pygments_lexer": "ipython3",
   "version": "3.10.12"
  }
 },
 "nbformat": 4,
 "nbformat_minor": 5
}
