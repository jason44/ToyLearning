{
 "cells": [
  {
   "cell_type": "code",
   "execution_count": 1,
   "id": "bb89c6ea-7761-4e4a-a39e-9a9898bf9930",
   "metadata": {},
   "outputs": [],
   "source": [
    "import gymnasium as gym\n",
    "import math\n",
    "import random\n",
    "import matplotlib\n",
    "import matplotlib.pyplot as plt\n",
    "from collections import namedtuple, deque\n",
    "from itertools import count\n",
    "\n",
    "import torch\n",
    "import torch.nn as nn\n",
    "import torch.optim as optim\n",
    "import torch.nn.functional as F"
   ]
  },
  {
   "cell_type": "code",
   "execution_count": 2,
   "id": "f0c4cc0d-43f0-4626-9822-66ac18a7e0f9",
   "metadata": {},
   "outputs": [],
   "source": [
    "env = gym.make(\"CartPole-v1\")"
   ]
  },
  {
   "cell_type": "code",
   "execution_count": 3,
   "id": "cf517ca2-c2b9-4c5b-852e-f470fe69654c",
   "metadata": {},
   "outputs": [],
   "source": [
    "# set up matplotlib\n",
    "is_ipython = 'inline' in matplotlib.get_backend()\n",
    "if is_ipython:\n",
    "    from IPython import display\n",
    "\n",
    "# enable interactive mode\n",
    "plt.ion();"
   ]
  },
  {
   "cell_type": "code",
   "execution_count": 4,
   "id": "415a0778-04e9-456a-a86e-fce82e87d081",
   "metadata": {},
   "outputs": [
    {
     "name": "stdout",
     "output_type": "stream",
     "text": [
      "mps\n"
     ]
    }
   ],
   "source": [
    "# if GPU is to be used\n",
    "device = torch.device(\n",
    "    \"cuda\" if torch.cuda.is_available() else\n",
    "    \"mps\" if torch.backends.mps.is_available() else\n",
    "    #\"hip\" if torch.backends.openmp.is_available() else \n",
    "    \"cpu\"\n",
    ")\n",
    "print(device)"
   ]
  },
  {
   "cell_type": "markdown",
   "id": "87b8bb09-1969-411b-a0bb-c2e59148945a",
   "metadata": {},
   "source": [
    "`Transition`: a tuple representing a single change in the environment and its corresponding action and its reward for taking such an action.\n",
    "\n",
    "`ReplayMemory`: stores transitions and replays them. By sampling randomly, the transitions that make up a batch are decorrelated, which has been shown to improve training."
   ]
  },
  {
   "cell_type": "code",
   "execution_count": 5,
   "id": "d2f35edc-845c-4a9c-891b-0492fe181cd1",
   "metadata": {},
   "outputs": [],
   "source": [
    "Transition = namedtuple('Transition',\n",
    "                        ('state', 'action', 'next_state', 'reward'))\n",
    "\n",
    "class ReplayMemory(object):\n",
    "\n",
    "    def __init__(self, capacity):\n",
    "        self.memory = deque([], maxlen=capacity)\n",
    "\n",
    "    def push(self, *args):\n",
    "        \"\"\"Save a transition\"\"\"\n",
    "        self.memory.append(Transition(*args))\n",
    "\n",
    "    def sample(self, batch_size):\n",
    "        return random.sample(self.memory, batch_size)\n",
    "\n",
    "    def __len__(self):\n",
    "        return len(self.memory)"
   ]
  },
  {
   "cell_type": "markdown",
   "id": "a7ec93c1-783b-46a3-ab2a-b4b5a97c490e",
   "metadata": {},
   "source": [
    "## DQN\n",
    "Let $s_t$ be the state and let $\\Gamma(s_t)$ be the set of actions $a_t$ that can be taken at $s_t$ and let $t$ be time .\n",
    "The purpose of this algorithm is to maximize the discounted, cumulative reward function starting from $t=t_0$:\n",
    "\n",
    "$$R_{t_0} = \\sum_{t=t_0}^\\infty \\gamma^{t-t_0} F(s_t, a_t)$$\n",
    "\n",
    "where $F(s, a)$ is the reward following an action $a$ in a state $s$. The reward $R_{t_0}$ is also known as the *return*. The *discount factor* $\\gamma$ should be a constant between $0$ and $1$ for the sum to converge. Notice that a smaller $\\gamma$ places greater value in actions that maximize the reward in the short term over the long term.\n",
    "\n",
    "The main idea behind Q-learning is that if we had a function $Q^*: \\text{State} \\times \\text{Action} \\to \\mathbb{R}$, that could tell us what our *return* is given an action and state, then we could easily construct a policy\n",
    "\n",
    "$$\\pi^*(s) = \\arg\\max_{a \\in \\Gamma (s)} Q^*(s, a)$$\n",
    "\n",
    "that chooses the *action* to maximize the reward function. First, $\\arg\\max$, not to be confused with $\\max$, outputs the inputs that maximize $Q^*$. Second, $Q^*$ and $\\pi^*$ denote families of functions, not any function in particular. For each $Q^\\prime$, a corresponding $\\pi^\\prime$ is defined above.\n",
    "\n",
    "For most experiments we are not omniscient, so we do not know $Q$. However, since *neural networks* are *universal function approximaters*, we can train a neural network to act as $Q^*$.\n",
    "\n",
    "#### Bellman equation\n",
    "In our case, $\\pi^*(s)$ is a policy such that $Q^*(s, \\pi(s))$ is the maxima. Hence $Q^{\\pi\\prime}(s) = V^\\prime(s)$, defined below, is a policy that maximizes the *return* given an initial state $s$.\n",
    "\n",
    "$$V^\\prime(s_0) =  \\max_{a_t \\in \\Gamma(s_t)} \\sum_{t=t_0}^\\infty \\gamma^{t-t_0} F(s_t, a_t).$$\n",
    "\n",
    "\n",
    "The **principle of optimality** states that an optimal policy $V$ has the property that whatever the initial state and decision are, the remaining decisions must be an optimal policy with respect to the state resulting from the first decision.\n",
    "\n",
    "Now, let $Q^\\pi(s, a)=V(s, a)$ denote the return given an initial state $s$ **and** initial action $a$. If we begin with $t_0 = 0$, a state $s_0$ and a decision $a_0$, then it must be the case that\n",
    "\n",
    "$$V(s_0, a_0) = F(s_0, a_0) + \\gamma \\left[\\max_{a_t \\in \\Gamma(s_t)} \\sum_{t=1}^\\infty \\gamma^{t-1} F(s_t, a_t)\\right]$$\n",
    "\n",
    "and hence,\n",
    "\n",
    "$$V^\\prime(s_0) = V(s_0, \\pi(s_0)) = \\max_{a_0 \\in \\Gamma(s_0)} \\left(F(s_0, a_0) + \\gamma \\left[\\max_{a_t \\in \\Gamma(s_t)} \\sum_{t=1}^\\infty \\gamma^{t-1} F(s_t, a_t)\\right]\\right)$$\n",
    "\n",
    "Notice that the inside of the brackets is just $V(s_1, \\pi(s_1))$. Thus\n",
    "\n",
    "$$V(s_0, \\pi(s_0)) =  \\max_{a_0 \\in \\Gamma(s_0} \\left[F(s_0, a_0) + \\gamma V(s_1, \\pi(s_1))\\right]$$\n",
    "\n",
    "and in general,\n",
    "\n",
    "$$V(s, \\pi(s)) =  \\max_{a \\in \\Gamma(s)} \\left[F(s, a) + \\gamma V(s^\\prime, \\pi(s^\\prime)\\right]$$\n",
    "\n",
    "where $s^\\prime$ is the state that results, or follows the previous state $s$ and action $a$. \n",
    "\n",
    "\n",
    "Any reward function $Q$ with an *optimal* policy $\\pi$ obeys the Bellman equation, so, \n",
    "\n",
    "$$Q^\\pi(s, a) = F(s, a) + \\gamma Q^\\pi(s^\\prime, \\pi(s^\\prime))$$\n",
    "\n",
    "The **observed** difference between the two sides is the error:\n",
    "\n",
    "$$\\delta = Q(s, a) - (F(s, a) + \\gamma\\max Q(s^\\prime, a^\\prime))$$\n",
    "\n",
    "which is equivalent to\n",
    "\n",
    "$$Q(s, a) - Q^\\pi(s, a)$$\n",
    "\n",
    "where $Q(s, a)$ is the return resulting from the decisions made by the model and $Q^\\pi(s, a)$ is the optimal return according to the model.\n",
    "\n",
    "\n",
    "The **Huber loss** \n",
    "\n",
    "$$\\mathcal L = \\frac{1}{|B|} \\sum_{(s, a, s^\\prime, a^\\prime)} \\mathcal L(\\delta)$$\n",
    "\n",
    "where $\\mathcal L(\\delta) = \\begin{cases} \\frac{1}{2} \\delta^2 & |\\delta| \\leq 1, \\\\ |\\delta | - \\frac{1}{2} & \\text{otherwise}\\end{cases}$\n",
    "\n",
    "will be used to minimize the error. Where the *total loss* is the sum of each transitions in batch $B$. The Huber loss acts like the *mean squared error* for small values, and the *mean absolute error* when the error is large. This makes it more robust to outliers when the estimated $Q$ function is very noisy.\n",
    "\n",
    "Notice that if $\\gamma = 0$, then the error simplifies to $Q(s, a) - F(s, a)$ which in practice makes the network mimic a greedy algorithm (which is pretty pointless, as we do not need neural networks for that)."
   ]
  },
  {
   "cell_type": "code",
   "execution_count": 6,
   "id": "44604905-04a8-412b-9184-62ac75ec9109",
   "metadata": {},
   "outputs": [],
   "source": [
    "# For the CartPole example, n_actions=2, and n_observations=4\n",
    "class DQN(nn.Module):\n",
    "\n",
    "    def __init__(self, n_observations, n_actions):\n",
    "        super(DQN, self).__init__()\n",
    "        self.layer1 = nn.Linear(n_observations, 128)\n",
    "        self.layer2 = nn.Linear(128, 128)\n",
    "        self.layer3 = nn.Linear(128, n_actions)\n",
    "\n",
    "    # Called with either one element to determine next action, or a batch\n",
    "    # during optimization. Returns tensor([[left0exp,right0exp]...]).\n",
    "    def forward(self, x):\n",
    "        x = F.relu(self.layer1(x))\n",
    "        x = F.relu(self.layer2(x))\n",
    "        return self.layer3(x)"
   ]
  },
  {
   "cell_type": "markdown",
   "id": "638e9f34-9e93-41ba-bb38-fc59ca834a7c",
   "metadata": {},
   "source": [
    "### Hyperparameters\n",
    "On top of the hyperparameters in the FNN, the `select_action` function introduces a couple important ones. Predictions are made with\n",
    "`select_action`, which selects an action according to an **epsilon greedy policy**. Basically, we can either use our model to choose an action, or we can choose the action *randomly* from the *action space*. The probability of choosing a random action will start at a high probability, `EPS_START`, as there is very little reason to use our policy early on. Rather, we instead encourage the model to explore. As the number of *episodes* progress our model should improve, and hence we should encourage the use of the model's learned policy by decaying the likelihood of a random decision towards `EPS_END`, where `EPS_DECAY` controls the rate of decay. `EPS_START`, `EPS_END`, `EPS_DECAY` are notable hyperparameters you may want to tune as they directly affect the noisiness of the training."
   ]
  },
  {
   "cell_type": "code",
   "execution_count": 7,
   "id": "01a0c1e6-ca3f-4188-bb90-13469e99906d",
   "metadata": {},
   "outputs": [],
   "source": [
    "# BATCH_SIZE is the number of transitions sampled from the replay buffer\n",
    "# GAMMA is the discount factor\n",
    "# EPS_START is the starting value of epsilon\n",
    "# EPS_END is the final value of epsilon\n",
    "# EPS_DECAY controls the rate of exponential decay of epsilon, higher means a slower decay\n",
    "# TAU is the update rate of the target network\n",
    "# LR is the learning rate of the ``AdamW`` optimizer\n",
    "BATCH_SIZE = 128\n",
    "GAMMA = 0.9\n",
    "EPS_START = 0.9\n",
    "EPS_END = 0.05\n",
    "EPS_DECAY = 1000\n",
    "TAU = 0.005\n",
    "LR = 1e-4\n",
    "\n",
    "# Get number of actions from gym's action space\n",
    "n_actions = env.action_space.n\n",
    "# Get the number of state observations\n",
    "state, info = env.reset()\n",
    "n_observations = len(state)\n",
    "\n",
    "policy_net = DQN(n_observations, n_actions).to(device)\n",
    "target_net = DQN(n_observations, n_actions).to(device)\n",
    "target_net.load_state_dict(policy_net.state_dict())\n",
    "\n",
    "optimizer = optim.AdamW(policy_net.parameters(), lr=LR, amsgrad=True)\n",
    "memory = ReplayMemory(10000)\n",
    "\n",
    "steps_done = 0\n",
    "\n",
    "# env.reset() returns state as a column vector,\n",
    "# however select_action takes in a row vector, shape=[1, n_observations], to feed into the NN\n",
    "def select_action(state):\n",
    "    global steps_done\n",
    "    sample = random.random()\n",
    "    eps_threshold = EPS_END + (EPS_START - EPS_END) * \\\n",
    "        math.exp(-1. * steps_done / EPS_DECAY)\n",
    "    steps_done += 1\n",
    "    if sample > eps_threshold:\n",
    "        with torch.no_grad():\n",
    "            # policy_net(state) is equivalent to policy_net.forward(state). \n",
    "            # policy_net outputs some value for each action. We choose the largest action to maximize the total return\n",
    "            return policy_net(state).max(1).indices.view(1, 1)\n",
    "    else:\n",
    "        # chooses a random action\n",
    "        return torch.tensor([[env.action_space.sample()]], device=device, dtype=torch.long)\n",
    "\n",
    "\n",
    "episode_durations = []\n",
    "\n",
    "\n",
    "def plot_durations(show_result=False):\n",
    "    plt.figure(1)\n",
    "    durations_t = torch.tensor(episode_durations, dtype=torch.float)\n",
    "    if show_result:\n",
    "        plt.title('Result')\n",
    "    else:\n",
    "        plt.clf()\n",
    "        plt.title('Training...')\n",
    "    plt.xlabel('Episode')\n",
    "    plt.ylabel('Duration')\n",
    "    plt.plot(durations_t.numpy())\n",
    "    # Take 100 episode averages and plot them too\n",
    "    if len(durations_t) >= 100:\n",
    "        means = durations_t.unfold(0, 100, 1).mean(1).view(-1)\n",
    "        means = torch.cat((torch.zeros(99), means))\n",
    "        plt.plot(means.numpy())\n",
    "\n",
    "    plt.pause(0.001)  # pause a bit so that plots are updated\n",
    "    if is_ipython:\n",
    "        if not show_result:\n",
    "            display.display(plt.gcf())\n",
    "            display.clear_output(wait=True)\n",
    "        else:\n",
    "            display.display(plt.gcf())\n"
   ]
  },
  {
   "cell_type": "markdown",
   "id": "826c18a7-59c0-4da7-974d-627586cdd96a",
   "metadata": {},
   "source": [
    "### Optimization\n",
    "First the batch will be sampled randomly from the set of observed *Transitions*. Hence, Transitions in a batch are generally not subsequent. \n",
    "We will then use our model to approximate $Q(s_t, a_t)$ for each $(s_t, a_t)$ in the batch.\n",
    "Next, we will compute $Q^\\pi(s_{t+1})$ for each state in the batch. This is then used to compute our expected values $\\{Q^\\pi(s, a) ~|~ s \\in \\text{batch}\\}$ using the bellman equation\n",
    "\n",
    "$$Q^\\pi(s, a)=F(s,a) + Q^\\pi(s_{t+1})$$\n",
    "\n",
    "Then, we calculate the error-array $Q(s, a)-Q^\\pi(s, a)$ and optimize it using the *Huber Loss* and *AdamW* optimization. \n",
    "\n",
    "One notable addition to the algorithm is the use of a slower learning `target_net`, to calculate the expected values, $Q^\\pi(s_{t+1})$. Using only one network for both predicted values and the expected values creates a *feedback loop*. That is, the $Q$-values for the next state (which are used to calculate the target values) are highly *correlated* with the $Q$-values of the current state by virtue of coming from the same network. In such a model, each update changes both the predicted and evaluated in the same direction which is a *moving target problem* and causes instability in the learning process (as the target will keep changing), thus preventing the network from converging. Moreover, since the expected values are influenced by the network's errors, at each update the errors will accumulate and potentially cause the predictor $Q$ to become biased or incorrect, hindering its ability to learn the true value function. These problems can be mostly mitigated with a target network, though not completely as `target_net` is still moving towards `policy_net`. Our hope is that the network will have converged to a good state by the time `target_net` converges with it. Otherwise, we get divergent or oscillatory behavior.\n",
    "\n"
   ]
  },
  {
   "cell_type": "code",
   "execution_count": 8,
   "id": "42870bf9-4dc7-40ef-ad39-6ec996cc7c8b",
   "metadata": {},
   "outputs": [],
   "source": [
    "def optimize_model():\n",
    "    if len(memory) < BATCH_SIZE:\n",
    "        return\n",
    "    transitions = memory.sample(BATCH_SIZE)\n",
    "    # Transpose the batch.\n",
    "    # This converts the batch-array of Transitions to a Transition of batch-arrays.\n",
    "    # eg: batch.state is a tensor with shape=[BATCH_SIZE, n_observations], which we can feed into the NN.\n",
    "    # eg: batch.action is a tensor with shape=[BATCH_SIZE], we can use in training\n",
    "    batch = Transition(*zip(*transitions))\n",
    "\n",
    "    # Compute a boolean mask of all non-final states in the batch (all transitions except the final one will be True)\n",
    "    non_final_mask = torch.tensor(tuple(map(lambda s: s is not None,\n",
    "                                          batch.next_state)), device=device, dtype=torch.bool)\n",
    "    \n",
    "    # separate out the batch elements into individual tensors.\n",
    "    # Note: next_states_batch excludes the final state\n",
    "    next_states_batch = torch.cat([s for s in batch.next_state if s is not None])\n",
    "    state_batch = torch.cat(batch.state)\n",
    "    action_batch = torch.cat(batch.action)\n",
    "    reward_batch = torch.cat(batch.reward)\n",
    "\n",
    "\n",
    "    # Our NN, policy_net, computes Q(s_t, a) for all a. We are interested in Q(s_t, a) for the corresponding a in action_batch. \n",
    "    # So, .gather(1, action_batch) gathers values in action_batch along dim=1.\n",
    "    # It works by choosing the action_batch[i]-th column of the i-th row of policy_net(state_batch)\n",
    "    # which correspond to the action value of the action which would have been taken according to the memory\n",
    "    #\n",
    "    # Note: action_batch.shape=[BATCH_SIZE] and policy_net(state_batch).shape=[BATCH_SIZE, num_actions]\n",
    "    # moreover, 0 <= action_batch[i] < num_actions\n",
    "    state_action_values = policy_net(state_batch).gather(1, action_batch)\n",
    "\n",
    "    # Compute V(s_{t+1}) = Q(s_{t+1}, pi(s_{t+1})), for use in the Bellman equation below\n",
    "    # Note: target_net is a slower learning version of policy_net with an imposed learning rate TAU for the purpose of stability\n",
    "    # This is because policy_net is very prone to randomness in the initalization, so \n",
    "    # we will use the slower learning target_net to compute expected values. \n",
    "    next_state_values = torch.zeros(BATCH_SIZE, device=device)\n",
    "    with torch.no_grad():\n",
    "        next_state_values[non_final_mask] = target_net(next_states_batch).max(1).values\n",
    "    # Compute the expected Q values using Bellman's equation\n",
    "    # the loss function will then compare expected_state_action_values with the observed state_action_values\n",
    "    expected_state_action_values = reward_batch + (next_state_values * GAMMA)\n",
    "\n",
    "    # Compute Huber loss\n",
    "    criterion = nn.SmoothL1Loss()\n",
    "    loss = criterion(state_action_values, expected_state_action_values.unsqueeze(1))\n",
    "\n",
    "    # Optimize the model\n",
    "    optimizer.zero_grad()\n",
    "    loss.backward()\n",
    "    # In-place gradient clipping\n",
    "    torch.nn.utils.clip_grad_value_(policy_net.parameters(), 100)\n",
    "    optimizer.step()"
   ]
  },
  {
   "cell_type": "markdown",
   "id": "fe07fc51-4b83-4562-82dd-15612dbf2b80",
   "metadata": {},
   "source": [
    "### Training\n",
    "Training will continue until the model converges towards some learned policy. Often times a model may converge, but the stochastic nature of the *epsilon greedy policy* may make it diverge. This may actually be desirable, especially when the learned policy isn't ideal. As such, it is recommended that `EPS_END` is not $0$. "
   ]
  },
  {
   "cell_type": "code",
   "execution_count": 9,
   "id": "7ff017cb-9a1f-4829-88d5-beeb21f711c0",
   "metadata": {},
   "outputs": [
    {
     "name": "stdout",
     "output_type": "stream",
     "text": [
      "Complete\n"
     ]
    },
    {
     "data": {
      "image/png": "[encoded data removed]",
      "text/plain": [
       "<Figure size 640x480 with 1 Axes>"
      ]
     },
     "metadata": {},
     "output_type": "display_data"
    },
    {
     "data": {
      "text/plain": [
       "<Figure size 640x480 with 0 Axes>"
      ]
     },
     "metadata": {},
     "output_type": "display_data"
    },
    {
     "data": {
      "text/plain": [
       "<Figure size 640x480 with 0 Axes>"
      ]
     },
     "metadata": {},
     "output_type": "display_data"
    }
   ],
   "source": [
    "if torch.cuda.is_available() or torch.backends.mps.is_available():\n",
    "    num_episodes = 600\n",
    "else:\n",
    "    num_episodes = 600\n",
    "\n",
    "for i_episode in range(num_episodes):\n",
    "    # Initialize the environment and get its state\n",
    "    state, info = env.reset()\n",
    "    state = torch.tensor(state, dtype=torch.float32, device=device).unsqueeze(0)\n",
    "    for t in count():\n",
    "        action = select_action(state)\n",
    "        observation, reward, terminated, truncated, _ = env.step(action.item())\n",
    "        reward = torch.tensor([reward], device=device)\n",
    "        done = terminated or truncated\n",
    "\n",
    "        if terminated:\n",
    "            next_state = None\n",
    "        else:\n",
    "            next_state = torch.tensor(observation, dtype=torch.float32, device=device).unsqueeze(0)\n",
    "\n",
    "        # Store the transition in memory\n",
    "        memory.push(state, action, next_state, reward)\n",
    "\n",
    "        # Move to the next state\n",
    "        state = next_state\n",
    "\n",
    "        # Perform one step of the optimization (on the policy network)\n",
    "        optimize_model()\n",
    "\n",
    "        # Soft update of the target network's weights\n",
    "        # θ′ ← τ θ + (1 −τ )θ′\n",
    "        target_net_state_dict = target_net.state_dict()\n",
    "        policy_net_state_dict = policy_net.state_dict()\n",
    "        for key in policy_net_state_dict:\n",
    "            target_net_state_dict[key] = policy_net_state_dict[key]*TAU + target_net_state_dict[key]*(1-TAU)\n",
    "        target_net.load_state_dict(target_net_state_dict)\n",
    "\n",
    "        if done:\n",
    "            episode_durations.append(t + 1)\n",
    "            plot_durations()\n",
    "            break\n",
    "\n",
    "print('Complete')\n",
    "plot_durations(show_result=True)\n",
    "plt.ioff()\n",
    "plt.show()"
   ]
  },
  {
   "cell_type": "markdown",
   "id": "91edaefd-d224-4eee-8c02-2d448a7e970d",
   "metadata": {},
   "source": [
    "### Summary\n",
    "The DQN learns by examining the return values for actions chosen by a stochastic process. The model compares said actions to the optimal actions according to the network and updates the network accordingly. As the network learns, the model relys less on random choice as we would like to rely more on the policy that the model has learned. \n",
    "\n",
    "### Reward\n",
    "The environment assigns some reward value for each decision made at some state. This reward value can be as simple as \n",
    "comparing the observations between the two states, or more complex depending on the goal you want the model to learn.\n",
    "\n",
    "\n",
    "\n"
   ]
  },
  {
   "cell_type": "code",
   "execution_count": 10,
   "id": "510bc522-eec9-4970-a6f8-46efbc738eed",
   "metadata": {},
   "outputs": [],
   "source": [
    "# 4:37 for 600 episodes\n",
    "# GPU 48C to 76C"
   ]
  }
 ],
 "metadata": {
  "kernelspec": {
   "display_name": "Python 3 (ipykernel)",
   "language": "python",
   "name": "python3"
  },
  "language_info": {
   "codemirror_mode": {
    "name": "ipython",
    "version": 3
   },
   "file_extension": ".py",
   "mimetype": "text/x-python",
   "name": "python",
   "nbconvert_exporter": "python",
   "pygments_lexer": "ipython3",
   "version": "3.12.3"
  }
 },
 "nbformat": 4,
 "nbformat_minor": 5
}
